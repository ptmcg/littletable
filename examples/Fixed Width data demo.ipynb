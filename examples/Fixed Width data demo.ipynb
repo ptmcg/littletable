{
 "cells": [
  {
   "cell_type": "code",
   "execution_count": 1,
   "metadata": {
    "collapsed": true
   },
   "outputs": [],
   "source": [
    "import littletable as lt\n",
    "from IPython.display import display, HTML\n",
    "_HTML = lambda tbl, fields='*': display(HTML(tbl.as_html(fields)))"
   ]
  },
  {
   "cell_type": "code",
   "execution_count": 2,
   "metadata": {
    "collapsed": true
   },
   "outputs": [],
   "source": [
    "data = \"\"\"\\\n",
    "0010GEORGE JETSON    12345 SPACESHIP ST   HOUSTON       TX 4.9\n",
    "0020WILE E COYOTE    312 ACME BLVD        TUCSON        AZ 7.3\n",
    "0030FRED FLINTSTONE  246 GRANITE LANE     BEDROCK       CA 2.6\n",
    "0040JONNY QUEST      31416 SCIENCE AVE    PALO ALTO     CA 8.1\n",
    "\"\"\"\n",
    "\n",
    "columns = [\n",
    "    (\"id_no\", 0, ),\n",
    "    (\"name\", 4, ),\n",
    "    (\"address\", 21, ),\n",
    "    (\"city\", 42, ),\n",
    "    (\"state\", 56, 58, ),\n",
    "    (\"tech_skill_score\", 59, None, float),\n",
    "    ]\n",
    "\n",
    "reader = lt.FixedWidthReader(columns, data)"
   ]
  },
  {
   "cell_type": "code",
   "execution_count": 3,
   "metadata": {
    "collapsed": false
   },
   "outputs": [],
   "source": [
    "characters_table = lt.Table().insert_many(reader)"
   ]
  },
  {
   "cell_type": "code",
   "execution_count": 4,
   "metadata": {
    "collapsed": false
   },
   "outputs": [
    {
     "data": {
      "text/html": [
       "<table>\n",
       "<tr><th><div align=\"center\">id_no</div></th><th><div align=\"center\">name</div></th><th><div align=\"center\">address</div></th><th><div align=\"center\">city</div></th><th><div align=\"center\">state</div></th><th><div align=\"center\">tech_skill_score</div></th></tr>\n",
       "<tr><td><div align=\"left\">0010</div></td><td><div align=\"left\">GEORGE JETSON</div></td><td><div align=\"left\">12345 SPACESHIP ST</div></td><td><div align=\"left\">HOUSTON</div></td><td><div align=\"left\">TX</div></td><td><div align=\"right\">4.9</div></td></tr>\n",
       "<tr><td><div align=\"left\">0020</div></td><td><div align=\"left\">WILE E COYOTE</div></td><td><div align=\"left\">312 ACME BLVD</div></td><td><div align=\"left\">TUCSON</div></td><td><div align=\"left\">AZ</div></td><td><div align=\"right\">7.3</div></td></tr>\n",
       "<tr><td><div align=\"left\">0030</div></td><td><div align=\"left\">FRED FLINTSTONE</div></td><td><div align=\"left\">246 GRANITE LANE</div></td><td><div align=\"left\">BEDROCK</div></td><td><div align=\"left\">CA</div></td><td><div align=\"right\">2.6</div></td></tr>\n",
       "<tr><td><div align=\"left\">0040</div></td><td><div align=\"left\">JONNY QUEST</div></td><td><div align=\"left\">31416 SCIENCE AVE</div></td><td><div align=\"left\">PALO ALTO</div></td><td><div align=\"left\">CA</div></td><td><div align=\"right\">8.1</div></td></tr>\n",
       "</table>"
      ],
      "text/plain": [
       "<IPython.core.display.HTML object>"
      ]
     },
     "metadata": {},
     "output_type": "display_data"
    }
   ],
   "source": [
    "_HTML(characters_table, \"id_no name address city state *\")"
   ]
  },
  {
   "cell_type": "code",
   "execution_count": null,
   "metadata": {
    "collapsed": true
   },
   "outputs": [],
   "source": []
  }
 ],
 "metadata": {
  "kernelspec": {
   "display_name": "Python 3",
   "language": "python",
   "name": "python3"
  },
  "language_info": {
   "codemirror_mode": {
    "name": "ipython",
    "version": 3
   },
   "file_extension": ".py",
   "mimetype": "text/x-python",
   "name": "python",
   "nbconvert_exporter": "python",
   "pygments_lexer": "ipython3",
   "version": "3.5.2"
  }
 },
 "nbformat": 4,
 "nbformat_minor": 2
}
