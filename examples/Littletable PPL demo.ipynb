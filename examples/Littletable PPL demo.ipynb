{
 "cells": [
  {
   "cell_type": "code",
   "execution_count": 16,
   "metadata": {
    "ExecuteTime": {
     "end_time": "2024-03-21T22:31:42.742150Z",
     "start_time": "2024-03-21T22:31:42.064194Z"
    },
    "collapsed": false
   },
   "outputs": [],
   "source": [
    "import littletable as lt\n",
    "from IPython.display import HTML, display\n",
    "\n",
    "# shortcut for displaying tables as HTML inside Notebook\n",
    "def _HTML(tbl, fields='*'):\n",
    "    display(HTML(tbl.as_html(fields)))"
   ]
  },
  {
   "cell_type": "code",
   "execution_count": 17,
   "metadata": {
    "ExecuteTime": {
     "end_time": "2024-03-21T22:31:58.613750Z",
     "start_time": "2024-03-21T22:31:58.180307Z"
    },
    "collapsed": false
   },
   "outputs": [
    {
     "name": "stdout",
     "output_type": "stream",
     "text": [
      "{'len': 25860, 'name': 'us_ppl.csv', 'fields': ['tz', 'name', 'feature', 'long', 'countycode', 'state', 'pop', 'elev', 'lat', 'featclass', 'wikilink', 'id'], 'indexes': [], 'created': datetime.datetime(2024, 3, 22, 0, 36, 37, 168369, tzinfo=datetime.timezone.utc), 'modified': datetime.datetime(2024, 3, 22, 0, 36, 37, 284952, tzinfo=datetime.timezone.utc), 'last_import': datetime.datetime(2024, 3, 22, 0, 36, 37, 284952, tzinfo=datetime.timezone.utc)}\n"
     ]
    }
   ],
   "source": [
    "# import from csv, convert string fields to ints and floats\n",
    "# (convert elevation from meters to feet)\n",
    "# us_ppl.csv is an extract of population data from the GeoNames database of US place \n",
    "# names (www.geonames.org), licensed under the Creative Commons Attribution 4.0 License\n",
    "def str_meters_to_int_feet(s: str) -> int:\n",
    "    return int(int(s)*328/100+0.5)\n",
    "\n",
    "us_ppl = lt.Table().csv_import(\n",
    "    'us_ppl.csv', \n",
    "    transforms={'pop': int, 'lat': float, 'long': float, 'elev': str_meters_to_int_feet}\n",
    ")"
   ]
  },
  {
   "cell_type": "code",
   "execution_count": 18,
   "metadata": {
    "ExecuteTime": {
     "end_time": "2024-03-21T22:32:25.857339Z",
     "start_time": "2024-03-21T22:32:25.842913Z"
    },
    "collapsed": false
   },
   "outputs": [
    {
     "data": {
      "text/plain": [
       "<littletable.Table at 0x2a737c4f5d0>"
      ]
     },
     "execution_count": 18,
     "metadata": {},
     "output_type": "execute_result"
    }
   ],
   "source": [
    "# define index by state, since we will do many analyses and pivots by state\n",
    "# (may only pivot on indexed attributes)\n",
    "us_ppl.create_index('state')"
   ]
  },
  {
   "cell_type": "code",
   "execution_count": 19,
   "metadata": {
    "ExecuteTime": {
     "end_time": "2024-03-21T22:32:32.895779Z",
     "start_time": "2024-03-21T22:32:32.890245Z"
    },
    "collapsed": false,
    "scrolled": true
   },
   "outputs": [
    {
     "data": {
      "text/plain": [
       "{'len': 25860,\n",
       " 'name': 'us_ppl.csv',\n",
       " 'fields': ['tz',\n",
       "  'name',\n",
       "  'feature',\n",
       "  'long',\n",
       "  'countycode',\n",
       "  'state',\n",
       "  'pop',\n",
       "  'elev',\n",
       "  'lat',\n",
       "  'featclass',\n",
       "  'wikilink',\n",
       "  'id'],\n",
       " 'indexes': [('state', False)],\n",
       " 'created': datetime.datetime(2024, 3, 22, 0, 36, 37, 168369, tzinfo=datetime.timezone.utc),\n",
       " 'modified': datetime.datetime(2024, 3, 22, 0, 36, 37, 284952, tzinfo=datetime.timezone.utc),\n",
       " 'last_import': datetime.datetime(2024, 3, 22, 0, 36, 37, 284952, tzinfo=datetime.timezone.utc)}"
      ]
     },
     "execution_count": 19,
     "metadata": {},
     "output_type": "execute_result"
    }
   ],
   "source": [
    "# display summary info about this table\n",
    "us_ppl.info()"
   ]
  },
  {
   "cell_type": "code",
   "execution_count": 20,
   "metadata": {
    "ExecuteTime": {
     "end_time": "2024-03-21T22:32:53.567130Z",
     "start_time": "2024-03-21T22:32:53.472254Z"
    }
   },
   "outputs": [],
   "source": [
    "# drop columns that are not so interesting\n",
    "us_ppl = us_ppl.select(\"-countycode -featclass -feature -tz -wikilink\")"
   ]
  },
  {
   "cell_type": "code",
   "execution_count": 21,
   "metadata": {
    "ExecuteTime": {
     "end_time": "2024-03-21T22:34:22.939333Z",
     "start_time": "2024-03-21T22:34:22.917309Z"
    },
    "collapsed": false
   },
   "outputs": [
    {
     "data": {
      "text/html": [
       "<table>\n",
       "<thead>\n",
       "<tr><th><div align=\"center\">id</div></th><th><div align=\"center\">name</div></th><th><div align=\"center\">lat</div></th><th><div align=\"center\">long</div></th><th><div align=\"center\">elev</div></th><th><div align=\"center\">pop</div></th></tr>\n",
       "</thead>\n",
       "<tbody><tr><td><div align=\"left\">4699066</div></td><td><div align=\"left\">Houston</div></td><td><div align=\"right\">29.76328</div></td><td><div align=\"right\">-95.36327</div></td><td><div align=\"right\">39</div></td><td><div align=\"right\">2027712</div></td></tr>\n",
       "<tr><td><div align=\"left\">4726206</div></td><td><div align=\"left\">San Antonio</div></td><td><div align=\"right\">29.42412</div></td><td><div align=\"right\">-98.49363</div></td><td><div align=\"right\">649</div></td><td><div align=\"right\">1256810</div></td></tr>\n",
       "<tr><td><div align=\"left\">4684888</div></td><td><div align=\"left\">Dallas</div></td><td><div align=\"right\">32.78306</div></td><td><div align=\"right\">-96.80667</div></td><td><div align=\"right\">420</div></td><td><div align=\"right\">1211704</div></td></tr>\n",
       "<tr><td><div align=\"left\">4671654</div></td><td><div align=\"left\">Austin</div></td><td><div align=\"right\">30.26715</div></td><td><div align=\"right\">-97.74306</div></td><td><div align=\"right\">489</div></td><td><div align=\"right\">678368</div></td></tr>\n",
       "<tr><td><div align=\"left\">4691930</div></td><td><div align=\"left\">Fort Worth</div></td><td><div align=\"right\">32.72541</div></td><td><div align=\"right\">-97.32085</div></td><td><div align=\"right\">653</div></td><td><div align=\"right\">618119</div></td></tr>\n",
       "<tr><td><div align=\"left\">5520993</div></td><td><div align=\"left\">El Paso</div></td><td><div align=\"right\">31.75872</div></td><td><div align=\"right\">-106.48693</div></td><td><div align=\"right\">3716</div></td><td><div align=\"right\">563662</div></td></tr>\n",
       "<tr><td><div align=\"left\">4671240</div></td><td><div align=\"left\">Arlington</div></td><td><div align=\"right\">32.73569</div></td><td><div align=\"right\">-97.10807</div></td><td><div align=\"right\">604</div></td><td><div align=\"right\">332969</div></td></tr>\n",
       "<tr><td><div align=\"left\">4683416</div></td><td><div align=\"left\">Corpus Christi</div></td><td><div align=\"right\">27.80058</div></td><td><div align=\"right\">-97.39638</div></td><td><div align=\"right\">7</div></td><td><div align=\"right\">277454</div></td></tr>\n",
       "<tr><td><div align=\"left\">4719457</div></td><td><div align=\"left\">Plano</div></td><td><div align=\"right\">33.01984</div></td><td><div align=\"right\">-96.69889</div></td><td><div align=\"right\">666</div></td><td><div align=\"right\">253372</div></td></tr>\n",
       "<tr><td><div align=\"left\">4693003</div></td><td><div align=\"left\">Garland</div></td><td><div align=\"right\">32.91262</div></td><td><div align=\"right\">-96.63888</div></td><td><div align=\"right\">551</div></td><td><div align=\"right\">217219</div></td></tr>\n",
       "<tr><td><div align=\"left\">5525577</div></td><td><div align=\"left\">Lubbock</div></td><td><div align=\"right\">33.57786</div></td><td><div align=\"right\">-101.85517</div></td><td><div align=\"right\">3201</div></td><td><div align=\"right\">211387</div></td></tr>\n",
       "<tr><td><div align=\"left\">4705349</div></td><td><div align=\"left\">Laredo</div></td><td><div align=\"right\">27.50641</div></td><td><div align=\"right\">-99.50754</div></td><td><div align=\"right\">413</div></td><td><div align=\"right\">210769</div></td></tr>\n",
       "<tr><td><div align=\"left\">4700168</div></td><td><div align=\"left\">Irving</div></td><td><div align=\"right\">32.81402</div></td><td><div align=\"right\">-96.94889</div></td><td><div align=\"right\">482</div></td><td><div align=\"right\">193825</div></td></tr>\n",
       "<tr><td><div align=\"left\">5516233</div></td><td><div align=\"left\">Amarillo</div></td><td><div align=\"right\">35.222</div></td><td><div align=\"right\">-101.8313</div></td><td><div align=\"right\">3667</div></td><td><div align=\"right\">181766</div></td></tr>\n",
       "<tr><td><div align=\"left\">4676740</div></td><td><div align=\"left\">Brownsville</div></td><td><div align=\"right\">25.90175</div></td><td><div align=\"right\">-97.49748</div></td><td><div align=\"right\">33</div></td><td><div align=\"right\">168015</div></td></tr>\n",
       "<tr><td><div align=\"left\">4717782</div></td><td><div align=\"left\">Pasadena</div></td><td><div align=\"right\">29.69106</div></td><td><div align=\"right\">-95.2091</div></td><td><div align=\"right\">30</div></td><td><div align=\"right\">144696</div></td></tr>\n",
       "<tr><td><div align=\"left\">4694482</div></td><td><div align=\"left\">Grand Prairie</div></td><td><div align=\"right\">32.74596</div></td><td><div align=\"right\">-96.99778</div></td><td><div align=\"right\">515</div></td><td><div align=\"right\">141122</div></td></tr>\n",
       "<tr><td><div align=\"left\">4710826</div></td><td><div align=\"left\">Mesquite</div></td><td><div align=\"right\">32.7668</div></td><td><div align=\"right\">-96.59916</div></td><td><div align=\"right\">495</div></td><td><div align=\"right\">131337</div></td></tr>\n",
       "<tr><td><div align=\"left\">4709796</div></td><td><div align=\"left\">McAllen</div></td><td><div align=\"right\">26.20341</div></td><td><div align=\"right\">-98.23001</div></td><td><div align=\"right\">121</div></td><td><div align=\"right\">122578</div></td></tr>\n",
       "<tr><td><div align=\"left\">4679195</div></td><td><div align=\"left\">Carrollton</div></td><td><div align=\"right\">32.95373</div></td><td><div align=\"right\">-96.89028</div></td><td><div align=\"right\">528</div></td><td><div align=\"right\">120792</div></td></tr>\n",
       "</tbody>\n",
       "</table>"
      ],
      "text/plain": [
       "<IPython.core.display.HTML object>"
      ]
     },
     "metadata": {},
     "output_type": "display_data"
    }
   ],
   "source": [
    "# display a table of the top 20 places in Texas by population\n",
    "_HTML(\n",
    "    us_ppl.by.state['TX'].orderby(\"pop desc\")[:20],\n",
    "    \"id name lat long elev pop\"\n",
    ")"
   ]
  },
  {
   "cell_type": "code",
   "execution_count": 22,
   "metadata": {
    "ExecuteTime": {
     "end_time": "2024-03-21T22:34:45.581054Z",
     "start_time": "2024-03-21T22:34:45.575624Z"
    },
    "collapsed": false
   },
   "outputs": [
    {
     "data": {
      "text/plain": [
       "['AK',\n",
       " 'AL',\n",
       " 'AR',\n",
       " 'AZ',\n",
       " 'CA',\n",
       " 'CO',\n",
       " 'CT',\n",
       " 'DC',\n",
       " 'DE',\n",
       " 'FL',\n",
       " 'GA',\n",
       " 'HI',\n",
       " 'IA',\n",
       " 'ID',\n",
       " 'IL',\n",
       " 'IN',\n",
       " 'KS',\n",
       " 'KY',\n",
       " 'LA',\n",
       " 'MA',\n",
       " 'MD',\n",
       " 'ME',\n",
       " 'MI',\n",
       " 'MN',\n",
       " 'MO',\n",
       " 'MS',\n",
       " 'MT',\n",
       " 'NC',\n",
       " 'ND',\n",
       " 'NE',\n",
       " 'NH',\n",
       " 'NJ',\n",
       " 'NM',\n",
       " 'NV',\n",
       " 'NY',\n",
       " 'OH',\n",
       " 'OK',\n",
       " 'OR',\n",
       " 'PA',\n",
       " 'RI',\n",
       " 'SC',\n",
       " 'SD',\n",
       " 'TN',\n",
       " 'TX',\n",
       " 'UT',\n",
       " 'VA',\n",
       " 'VT',\n",
       " 'WA',\n",
       " 'WI',\n",
       " 'WV',\n",
       " 'WY']"
      ]
     },
     "execution_count": 22,
     "metadata": {},
     "output_type": "execute_result"
    }
   ],
   "source": [
    "# what are all the states in the input data file\n",
    "us_ppl.by.state.keys()"
   ]
  },
  {
   "cell_type": "code",
   "execution_count": 23,
   "metadata": {
    "ExecuteTime": {
     "end_time": "2024-03-21T22:34:48.621794Z",
     "start_time": "2024-03-21T22:34:48.585162Z"
    },
    "collapsed": false
   },
   "outputs": [],
   "source": [
    "# create a pivot table by state\n",
    "piv = us_ppl.pivot(\"state\")"
   ]
  },
  {
   "cell_type": "code",
   "execution_count": 24,
   "metadata": {
    "ExecuteTime": {
     "end_time": "2024-03-21T22:35:27.387112Z",
     "start_time": "2024-03-21T22:35:27.381305Z"
    },
    "collapsed": false
   },
   "outputs": [
    {
     "data": {
      "text/html": [
       "<table>\n",
       "<thead>\n",
       "<tr><th><div align=\"center\">state</div></th><th><div align=\"center\">population</div></th></tr>\n",
       "</thead>\n",
       "<tbody><tr><td><div align=\"left\">AK</div></td><td><div align=\"right\">563056</div></td></tr>\n",
       "<tr><td><div align=\"left\">AL</div></td><td><div align=\"right\">2897156</div></td></tr>\n",
       "<tr><td><div align=\"left\">AR</div></td><td><div align=\"right\">1812861</div></td></tr>\n",
       "<tr><td><div align=\"left\">AZ</div></td><td><div align=\"right\">5222978</div></td></tr>\n",
       "<tr><td><div align=\"left\">CA</div></td><td><div align=\"right\">33430472</div></td></tr>\n",
       "<tr><td><div align=\"left\">CO</div></td><td><div align=\"right\">3849638</div></td></tr>\n",
       "<tr><td><div align=\"left\">CT</div></td><td><div align=\"right\">3197085</div></td></tr>\n",
       "<tr><td><div align=\"left\">DC</div></td><td><div align=\"right\">552433</div></td></tr>\n",
       "<tr><td><div align=\"left\">DE</div></td><td><div align=\"right\">351776</div></td></tr>\n",
       "<tr><td><div align=\"left\">FL</div></td><td><div align=\"right\">12887696</div></td></tr>\n",
       "<tr><td><div align=\"left\">GA</div></td><td><div align=\"right\">3809998</div></td></tr>\n",
       "<tr><td><div align=\"left\">HI</div></td><td><div align=\"right\">1090626</div></td></tr>\n",
       "<tr><td><div align=\"left\">IA</div></td><td><div align=\"right\">2356448</div></td></tr>\n",
       "<tr><td><div align=\"left\">ID</div></td><td><div align=\"right\">937015</div></td></tr>\n",
       "<tr><td><div align=\"left\">IL</div></td><td><div align=\"right\">11267435</div></td></tr>\n",
       "<tr><td><div align=\"left\">IN</div></td><td><div align=\"right\">4135004</div></td></tr>\n",
       "<tr><td><div align=\"left\">KS</div></td><td><div align=\"right\">2210179</div></td></tr>\n",
       "<tr><td><div align=\"left\">KY</div></td><td><div align=\"right\">2393935</div></td></tr>\n",
       "<tr><td><div align=\"left\">LA</div></td><td><div align=\"right\">3146506</div></td></tr>\n",
       "<tr><td><div align=\"left\">MA</div></td><td><div align=\"right\">7596206</div></td></tr>\n",
       "<tr><td><div align=\"left\">MD</div></td><td><div align=\"right\">4238413</div></td></tr>\n",
       "<tr><td><div align=\"left\">ME</div></td><td><div align=\"right\">1307016</div></td></tr>\n",
       "<tr><td><div align=\"left\">MI</div></td><td><div align=\"right\">6181472</div></td></tr>\n",
       "<tr><td><div align=\"left\">MN</div></td><td><div align=\"right\">4258509</div></td></tr>\n",
       "<tr><td><div align=\"left\">MO</div></td><td><div align=\"right\">4484455</div></td></tr>\n",
       "<tr><td><div align=\"left\">MS</div></td><td><div align=\"right\">1633802</div></td></tr>\n",
       "<tr><td><div align=\"left\">MT</div></td><td><div align=\"right\">601627</div></td></tr>\n",
       "<tr><td><div align=\"left\">NC</div></td><td><div align=\"right\">5014988</div></td></tr>\n",
       "<tr><td><div align=\"left\">ND</div></td><td><div align=\"right\">466545</div></td></tr>\n",
       "<tr><td><div align=\"left\">NE</div></td><td><div align=\"right\">1365959</div></td></tr>\n",
       "<tr><td><div align=\"left\">NH</div></td><td><div align=\"right\">1392889</div></td></tr>\n",
       "<tr><td><div align=\"left\">NJ</div></td><td><div align=\"right\">6465721</div></td></tr>\n",
       "<tr><td><div align=\"left\">NM</div></td><td><div align=\"right\">1426723</div></td></tr>\n",
       "<tr><td><div align=\"left\">NV</div></td><td><div align=\"right\">2095971</div></td></tr>\n",
       "<tr><td><div align=\"left\">NY</div></td><td><div align=\"right\">15576116</div></td></tr>\n",
       "<tr><td><div align=\"left\">OH</div></td><td><div align=\"right\">8024440</div></td></tr>\n",
       "<tr><td><div align=\"left\">OK</div></td><td><div align=\"right\">2750889</div></td></tr>\n",
       "<tr><td><div align=\"left\">OR</div></td><td><div align=\"right\">2727010</div></td></tr>\n",
       "<tr><td><div align=\"left\">PA</div></td><td><div align=\"right\">6851266</div></td></tr>\n",
       "<tr><td><div align=\"left\">RI</div></td><td><div align=\"right\">1007056</div></td></tr>\n",
       "<tr><td><div align=\"left\">SC</div></td><td><div align=\"right\">1895940</div></td></tr>\n",
       "<tr><td><div align=\"left\">SD</div></td><td><div align=\"right\">551090</div></td></tr>\n",
       "<tr><td><div align=\"left\">TN</div></td><td><div align=\"right\">4428371</div></td></tr>\n",
       "<tr><td><div align=\"left\">TX</div></td><td><div align=\"right\">18076558</div></td></tr>\n",
       "<tr><td><div align=\"left\">UT</div></td><td><div align=\"right\">2447564</div></td></tr>\n",
       "<tr><td><div align=\"left\">VA</div></td><td><div align=\"right\">4889841</div></td></tr>\n",
       "<tr><td><div align=\"left\">VT</div></td><td><div align=\"right\">325164</div></td></tr>\n",
       "<tr><td><div align=\"left\">WA</div></td><td><div align=\"right\">4592423</div></td></tr>\n",
       "<tr><td><div align=\"left\">WI</div></td><td><div align=\"right\">3993990</div></td></tr>\n",
       "<tr><td><div align=\"left\">WV</div></td><td><div align=\"right\">772157</div></td></tr>\n",
       "<tr><td><div align=\"left\">WY</div></td><td><div align=\"right\">382707</div></td></tr>\n",
       "</tbody>\n",
       "</table>"
      ],
      "text/plain": [
       "<IPython.core.display.HTML object>"
      ]
     },
     "metadata": {},
     "output_type": "display_data"
    }
   ],
   "source": [
    "# compute the total population by state, and output as a table\n",
    "_HTML(piv.summarize(lambda recs: sum(r.pop for r in recs), \"population\"))"
   ]
  },
  {
   "cell_type": "code",
   "execution_count": 25,
   "metadata": {
    "ExecuteTime": {
     "end_time": "2024-03-21T22:35:33.092866Z",
     "start_time": "2024-03-21T22:35:33.083300Z"
    },
    "collapsed": false
   },
   "outputs": [
    {
     "data": {
      "text/html": [
       "<table>\n",
       "<thead>\n",
       "<tr><th><div align=\"center\">state</div></th><th><div align=\"center\">pop</div></th></tr>\n",
       "</thead>\n",
       "<tbody><tr><td><div align=\"left\">CA</div></td><td><div align=\"right\">33430472</div></td></tr>\n",
       "<tr><td><div align=\"left\">TX</div></td><td><div align=\"right\">18076558</div></td></tr>\n",
       "<tr><td><div align=\"left\">NY</div></td><td><div align=\"right\">15576116</div></td></tr>\n",
       "<tr><td><div align=\"left\">FL</div></td><td><div align=\"right\">12887696</div></td></tr>\n",
       "<tr><td><div align=\"left\">IL</div></td><td><div align=\"right\">11267435</div></td></tr>\n",
       "<tr><td><div align=\"left\">OH</div></td><td><div align=\"right\">8024440</div></td></tr>\n",
       "<tr><td><div align=\"left\">MA</div></td><td><div align=\"right\">7596206</div></td></tr>\n",
       "<tr><td><div align=\"left\">PA</div></td><td><div align=\"right\">6851266</div></td></tr>\n",
       "<tr><td><div align=\"left\">NJ</div></td><td><div align=\"right\">6465721</div></td></tr>\n",
       "<tr><td><div align=\"left\">MI</div></td><td><div align=\"right\">6181472</div></td></tr>\n",
       "<tr><td><div align=\"left\">AZ</div></td><td><div align=\"right\">5222978</div></td></tr>\n",
       "<tr><td><div align=\"left\">NC</div></td><td><div align=\"right\">5014988</div></td></tr>\n",
       "<tr><td><div align=\"left\">VA</div></td><td><div align=\"right\">4889841</div></td></tr>\n",
       "<tr><td><div align=\"left\">WA</div></td><td><div align=\"right\">4592423</div></td></tr>\n",
       "<tr><td><div align=\"left\">MO</div></td><td><div align=\"right\">4484455</div></td></tr>\n",
       "<tr><td><div align=\"left\">TN</div></td><td><div align=\"right\">4428371</div></td></tr>\n",
       "<tr><td><div align=\"left\">MN</div></td><td><div align=\"right\">4258509</div></td></tr>\n",
       "<tr><td><div align=\"left\">MD</div></td><td><div align=\"right\">4238413</div></td></tr>\n",
       "<tr><td><div align=\"left\">IN</div></td><td><div align=\"right\">4135004</div></td></tr>\n",
       "<tr><td><div align=\"left\">WI</div></td><td><div align=\"right\">3993990</div></td></tr>\n",
       "<tr><td><div align=\"left\">CO</div></td><td><div align=\"right\">3849638</div></td></tr>\n",
       "<tr><td><div align=\"left\">GA</div></td><td><div align=\"right\">3809998</div></td></tr>\n",
       "<tr><td><div align=\"left\">CT</div></td><td><div align=\"right\">3197085</div></td></tr>\n",
       "<tr><td><div align=\"left\">LA</div></td><td><div align=\"right\">3146506</div></td></tr>\n",
       "<tr><td><div align=\"left\">AL</div></td><td><div align=\"right\">2897156</div></td></tr>\n",
       "<tr><td><div align=\"left\">OK</div></td><td><div align=\"right\">2750889</div></td></tr>\n",
       "<tr><td><div align=\"left\">OR</div></td><td><div align=\"right\">2727010</div></td></tr>\n",
       "<tr><td><div align=\"left\">UT</div></td><td><div align=\"right\">2447564</div></td></tr>\n",
       "<tr><td><div align=\"left\">KY</div></td><td><div align=\"right\">2393935</div></td></tr>\n",
       "<tr><td><div align=\"left\">IA</div></td><td><div align=\"right\">2356448</div></td></tr>\n",
       "<tr><td><div align=\"left\">KS</div></td><td><div align=\"right\">2210179</div></td></tr>\n",
       "<tr><td><div align=\"left\">NV</div></td><td><div align=\"right\">2095971</div></td></tr>\n",
       "<tr><td><div align=\"left\">SC</div></td><td><div align=\"right\">1895940</div></td></tr>\n",
       "<tr><td><div align=\"left\">AR</div></td><td><div align=\"right\">1812861</div></td></tr>\n",
       "<tr><td><div align=\"left\">MS</div></td><td><div align=\"right\">1633802</div></td></tr>\n",
       "<tr><td><div align=\"left\">NM</div></td><td><div align=\"right\">1426723</div></td></tr>\n",
       "<tr><td><div align=\"left\">NH</div></td><td><div align=\"right\">1392889</div></td></tr>\n",
       "<tr><td><div align=\"left\">NE</div></td><td><div align=\"right\">1365959</div></td></tr>\n",
       "<tr><td><div align=\"left\">ME</div></td><td><div align=\"right\">1307016</div></td></tr>\n",
       "<tr><td><div align=\"left\">HI</div></td><td><div align=\"right\">1090626</div></td></tr>\n",
       "<tr><td><div align=\"left\">RI</div></td><td><div align=\"right\">1007056</div></td></tr>\n",
       "<tr><td><div align=\"left\">ID</div></td><td><div align=\"right\">937015</div></td></tr>\n",
       "<tr><td><div align=\"left\">WV</div></td><td><div align=\"right\">772157</div></td></tr>\n",
       "<tr><td><div align=\"left\">MT</div></td><td><div align=\"right\">601627</div></td></tr>\n",
       "<tr><td><div align=\"left\">AK</div></td><td><div align=\"right\">563056</div></td></tr>\n",
       "<tr><td><div align=\"left\">DC</div></td><td><div align=\"right\">552433</div></td></tr>\n",
       "<tr><td><div align=\"left\">SD</div></td><td><div align=\"right\">551090</div></td></tr>\n",
       "<tr><td><div align=\"left\">ND</div></td><td><div align=\"right\">466545</div></td></tr>\n",
       "<tr><td><div align=\"left\">WY</div></td><td><div align=\"right\">382707</div></td></tr>\n",
       "<tr><td><div align=\"left\">DE</div></td><td><div align=\"right\">351776</div></td></tr>\n",
       "<tr><td><div align=\"left\">VT</div></td><td><div align=\"right\">325164</div></td></tr>\n",
       "</tbody>\n",
       "</table>"
      ],
      "text/plain": [
       "<IPython.core.display.HTML object>"
      ]
     },
     "metadata": {},
     "output_type": "display_data"
    }
   ],
   "source": [
    "# compute the total population by state, and output as a table\n",
    "_HTML(piv.as_table(sum, 'pop').orderby(\"pop desc\"), \"state pop\")"
   ]
  },
  {
   "cell_type": "code",
   "execution_count": 26,
   "metadata": {
    "ExecuteTime": {
     "end_time": "2024-03-21T22:35:36.629646Z",
     "start_time": "2024-03-21T22:35:36.616007Z"
    },
    "collapsed": false
   },
   "outputs": [
    {
     "data": {
      "text/plain": [
       "<littletable.Table at 0x2a73a4db250>"
      ]
     },
     "execution_count": 26,
     "metadata": {},
     "output_type": "execute_result"
    }
   ],
   "source": [
    "# add a computed field 'elev000', elevation rounded down by 1000's\n",
    "us_ppl.add_field('elev000', lambda rec: int(rec.elev/1000)*1000, 0)"
   ]
  },
  {
   "cell_type": "code",
   "execution_count": 27,
   "metadata": {
    "ExecuteTime": {
     "end_time": "2024-03-21T22:35:43.319494Z",
     "start_time": "2024-03-21T22:35:43.264574Z"
    },
    "collapsed": false
   },
   "outputs": [],
   "source": [
    "# create index on elev000 and pivot\n",
    "us_ppl.create_index('elev000')\n",
    "piv = us_ppl.pivot('elev000')"
   ]
  },
  {
   "cell_type": "code",
   "execution_count": 28,
   "metadata": {
    "ExecuteTime": {
     "end_time": "2024-03-21T22:35:46.631503Z",
     "start_time": "2024-03-21T22:35:46.622411Z"
    },
    "collapsed": false
   },
   "outputs": [
    {
     "data": {
      "text/html": [
       "<table>\n",
       "<thead>\n",
       "<tr><th><div align=\"center\">elevation</div></th><th><div align=\"center\">pop</div></th></tr>\n",
       "</thead>\n",
       "<tbody><tr><td><div align=\"left\">0-1000</div></td><td><div align=\"right\">184718782</div></td></tr>\n",
       "<tr><td><div align=\"left\">1000-2000</div></td><td><div align=\"right\">22464911</div></td></tr>\n",
       "<tr><td><div align=\"left\">2000-3000</div></td><td><div align=\"right\">4703076</div></td></tr>\n",
       "<tr><td><div align=\"left\">3000-4000</div></td><td><div align=\"right\">2720285</div></td></tr>\n",
       "<tr><td><div align=\"left\">4000-5000</div></td><td><div align=\"right\">4678777</div></td></tr>\n",
       "<tr><td><div align=\"left\">5000-6000</div></td><td><div align=\"right\">3281299</div></td></tr>\n",
       "<tr><td><div align=\"left\">6000-7000</div></td><td><div align=\"right\">1103386</div></td></tr>\n",
       "<tr><td><div align=\"left\">7000-8000</div></td><td><div align=\"right\">210123</div></td></tr>\n",
       "<tr><td><div align=\"left\">8000-9000</div></td><td><div align=\"right\">36772</div></td></tr>\n",
       "<tr><td><div align=\"left\">9000-10000</div></td><td><div align=\"right\">13202</div></td></tr>\n",
       "<tr><td><div align=\"left\">10000-11000</div></td><td><div align=\"right\">4562</div></td></tr>\n",
       "</tbody>\n",
       "</table>"
      ],
      "text/plain": [
       "<IPython.core.display.HTML object>"
      ]
     },
     "metadata": {},
     "output_type": "display_data"
    }
   ],
   "source": [
    "# create a table of the summary counts of the pivot, add a label field and display as a table\n",
    "ppl_by_elev = piv.as_table(sum, 'pop')\n",
    "ppl_by_elev.add_field(\"elevation\", lambda  rec: f\"{rec.elev000}-{rec.elev000+1000}\")\n",
    "_HTML(\n",
    "    ppl_by_elev, \n",
    "    \"elevation pop\"\n",
    ")"
   ]
  },
  {
   "cell_type": "code",
   "execution_count": 29,
   "metadata": {
    "ExecuteTime": {
     "end_time": "2024-03-21T22:35:47.922024Z",
     "start_time": "2024-03-21T22:35:47.806583Z"
    }
   },
   "outputs": [],
   "source": [
    "# summarize population by state and elevation\n",
    "piv = us_ppl.pivot('state elev000')"
   ]
  },
  {
   "cell_type": "code",
   "execution_count": 30,
   "metadata": {
    "ExecuteTime": {
     "end_time": "2024-03-21T22:35:49.565046Z",
     "start_time": "2024-03-21T22:35:49.556771Z"
    },
    "collapsed": false
   },
   "outputs": [
    {
     "data": {
      "text/html": [
       "<table>\n",
       "<thead>\n",
       "<tr><th><div align=\"center\">0</div></th><th><div align=\"center\">1000</div></th><th><div align=\"center\">2000</div></th><th><div align=\"center\">3000</div></th><th><div align=\"center\">4000</div></th><th><div align=\"center\">5000</div></th><th><div align=\"center\">6000</div></th><th><div align=\"center\">7000</div></th><th><div align=\"center\">8000</div></th><th><div align=\"center\">9000</div></th><th><div align=\"center\">10000</div></th></tr>\n",
       "</thead>\n",
       "<tbody>\n",
       "<tr><td><div align=\"left\">AK</div></td><td><div align=\"right\">548686</div></td><td><div align=\"right\">11696</div></td><td><div align=\"right\">2512</div></td><td><div align=\"right\">162</div></td><td><div align=\"right\">0</div></td><td><div align=\"right\">0</div></td><td><div align=\"right\">0</div></td><td><div align=\"right\">0</div></td><td><div align=\"right\">0</div></td><td><div align=\"right\">0</div></td></tr>\n",
       "<tr><td><div align=\"left\">AL</div></td><td><div align=\"right\">2832975</div></td><td><div align=\"right\">64181</div></td><td><div align=\"right\">0</div></td><td><div align=\"right\">0</div></td><td><div align=\"right\">0</div></td><td><div align=\"right\">0</div></td><td><div align=\"right\">0</div></td><td><div align=\"right\">0</div></td><td><div align=\"right\">0</div></td><td><div align=\"right\">0</div></td></tr>\n",
       "<tr><td><div align=\"left\">AR</div></td><td><div align=\"right\">1478252</div></td><td><div align=\"right\">334280</div></td><td><div align=\"right\">329</div></td><td><div align=\"right\">0</div></td><td><div align=\"right\">0</div></td><td><div align=\"right\">0</div></td><td><div align=\"right\">0</div></td><td><div align=\"right\">0</div></td><td><div align=\"right\">0</div></td><td><div align=\"right\">0</div></td></tr>\n",
       "<tr><td><div align=\"left\">AZ</div></td><td><div align=\"right\">435195</div></td><td><div align=\"right\">3368090</div></td><td><div align=\"right\">908140</div></td><td><div align=\"right\">128847</div></td><td><div align=\"right\">136507</div></td><td><div align=\"right\">134613</div></td><td><div align=\"right\">104211</div></td><td><div align=\"right\">7375</div></td><td><div align=\"right\">0</div></td><td><div align=\"right\">0</div></td></tr>\n",
       "<tr><td><div align=\"left\">CA</div></td><td><div align=\"right\">29785419</div></td><td><div align=\"right\">2493046</div></td><td><div align=\"right\">801137</div></td><td><div align=\"right\">178226</div></td><td><div align=\"right\">63354</div></td><td><div align=\"right\">49358</div></td><td><div align=\"right\">52243</div></td><td><div align=\"right\">7689</div></td><td><div align=\"right\">0</div></td><td><div align=\"right\">0</div></td></tr>\n",
       "<tr><td><div align=\"left\">CO</div></td><td><div align=\"right\">0</div></td><td><div align=\"right\">0</div></td><td><div align=\"right\">0</div></td><td><div align=\"right\">33791</div></td><td><div align=\"right\">609903</div></td><td><div align=\"right\">2483419</div></td><td><div align=\"right\">549769</div></td><td><div align=\"right\">121815</div></td><td><div align=\"right\">33341</div></td><td><div align=\"right\">13038</div></td></tr>\n",
       "<tr><td><div align=\"left\">CT</div></td><td><div align=\"right\">3185846</div></td><td><div align=\"right\">11239</div></td><td><div align=\"right\">0</div></td><td><div align=\"right\">0</div></td><td><div align=\"right\">0</div></td><td><div align=\"right\">0</div></td><td><div align=\"right\">0</div></td><td><div align=\"right\">0</div></td><td><div align=\"right\">0</div></td><td><div align=\"right\">0</div></td></tr>\n",
       "<tr><td><div align=\"left\">DC</div></td><td><div align=\"right\">552433</div></td><td><div align=\"right\">0</div></td><td><div align=\"right\">0</div></td><td><div align=\"right\">0</div></td><td><div align=\"right\">0</div></td><td><div align=\"right\">0</div></td><td><div align=\"right\">0</div></td><td><div align=\"right\">0</div></td><td><div align=\"right\">0</div></td><td><div align=\"right\">0</div></td></tr>\n",
       "<tr><td><div align=\"left\">DE</div></td><td><div align=\"right\">351776</div></td><td><div align=\"right\">0</div></td><td><div align=\"right\">0</div></td><td><div align=\"right\">0</div></td><td><div align=\"right\">0</div></td><td><div align=\"right\">0</div></td><td><div align=\"right\">0</div></td><td><div align=\"right\">0</div></td><td><div align=\"right\">0</div></td><td><div align=\"right\">0</div></td></tr>\n",
       "<tr><td><div align=\"left\">FL</div></td><td><div align=\"right\">12887696</div></td><td><div align=\"right\">0</div></td><td><div align=\"right\">0</div></td><td><div align=\"right\">0</div></td><td><div align=\"right\">0</div></td><td><div align=\"right\">0</div></td><td><div align=\"right\">0</div></td><td><div align=\"right\">0</div></td><td><div align=\"right\">0</div></td><td><div align=\"right\">0</div></td></tr>\n",
       "<tr><td><div align=\"left\">GA</div></td><td><div align=\"right\">2445316</div></td><td><div align=\"right\">1363431</div></td><td><div align=\"right\">1032</div></td><td><div align=\"right\">219</div></td><td><div align=\"right\">0</div></td><td><div align=\"right\">0</div></td><td><div align=\"right\">0</div></td><td><div align=\"right\">0</div></td><td><div align=\"right\">0</div></td><td><div align=\"right\">0</div></td></tr>\n",
       "<tr><td><div align=\"left\">HI</div></td><td><div align=\"right\">1022562</div></td><td><div align=\"right\">57799</div></td><td><div align=\"right\">7537</div></td><td><div align=\"right\">2728</div></td><td><div align=\"right\">0</div></td><td><div align=\"right\">0</div></td><td><div align=\"right\">0</div></td><td><div align=\"right\">0</div></td><td><div align=\"right\">0</div></td><td><div align=\"right\">0</div></td></tr>\n",
       "<tr><td><div align=\"left\">IA</div></td><td><div align=\"right\">1653137</div></td><td><div align=\"right\">703311</div></td><td><div align=\"right\">0</div></td><td><div align=\"right\">0</div></td><td><div align=\"right\">0</div></td><td><div align=\"right\">0</div></td><td><div align=\"right\">0</div></td><td><div align=\"right\">0</div></td><td><div align=\"right\">0</div></td><td><div align=\"right\">0</div></td></tr>\n",
       "<tr><td><div align=\"left\">ID</div></td><td><div align=\"right\">32215</div></td><td><div align=\"right\">41257</div></td><td><div align=\"right\">514747</div></td><td><div align=\"right\">86437</div></td><td><div align=\"right\">227568</div></td><td><div align=\"right\">31207</div></td><td><div align=\"right\">3584</div></td><td><div align=\"right\">0</div></td><td><div align=\"right\">0</div></td><td><div align=\"right\">0</div></td></tr>\n",
       "<tr><td><div align=\"left\">IL</div></td><td><div align=\"right\">11266941</div></td><td><div align=\"right\">494</div></td><td><div align=\"right\">0</div></td><td><div align=\"right\">0</div></td><td><div align=\"right\">0</div></td><td><div align=\"right\">0</div></td><td><div align=\"right\">0</div></td><td><div align=\"right\">0</div></td><td><div align=\"right\">0</div></td><td><div align=\"right\">0</div></td></tr>\n",
       "<tr><td><div align=\"left\">IN</div></td><td><div align=\"right\">4079011</div></td><td><div align=\"right\">55993</div></td><td><div align=\"right\">0</div></td><td><div align=\"right\">0</div></td><td><div align=\"right\">0</div></td><td><div align=\"right\">0</div></td><td><div align=\"right\">0</div></td><td><div align=\"right\">0</div></td><td><div align=\"right\">0</div></td><td><div align=\"right\">0</div></td></tr>\n",
       "<tr><td><div align=\"left\">KS</div></td><td><div align=\"right\">680072</div></td><td><div align=\"right\">1347649</div></td><td><div align=\"right\">147356</div></td><td><div align=\"right\">35102</div></td><td><div align=\"right\">0</div></td><td><div align=\"right\">0</div></td><td><div align=\"right\">0</div></td><td><div align=\"right\">0</div></td><td><div align=\"right\">0</div></td><td><div align=\"right\">0</div></td></tr>\n",
       "<tr><td><div align=\"left\">KY</div></td><td><div align=\"right\">2036079</div></td><td><div align=\"right\">357856</div></td><td><div align=\"right\">0</div></td><td><div align=\"right\">0</div></td><td><div align=\"right\">0</div></td><td><div align=\"right\">0</div></td><td><div align=\"right\">0</div></td><td><div align=\"right\">0</div></td><td><div align=\"right\">0</div></td><td><div align=\"right\">0</div></td></tr>\n",
       "<tr><td><div align=\"left\">LA</div></td><td><div align=\"right\">3146506</div></td><td><div align=\"right\">0</div></td><td><div align=\"right\">0</div></td><td><div align=\"right\">0</div></td><td><div align=\"right\">0</div></td><td><div align=\"right\">0</div></td><td><div align=\"right\">0</div></td><td><div align=\"right\">0</div></td><td><div align=\"right\">0</div></td><td><div align=\"right\">0</div></td></tr>\n",
       "<tr><td><div align=\"left\">MA</div></td><td><div align=\"right\">7454783</div></td><td><div align=\"right\">139698</div></td><td><div align=\"right\">1725</div></td><td><div align=\"right\">0</div></td><td><div align=\"right\">0</div></td><td><div align=\"right\">0</div></td><td><div align=\"right\">0</div></td><td><div align=\"right\">0</div></td><td><div align=\"right\">0</div></td><td><div align=\"right\">0</div></td></tr>\n",
       "<tr><td><div align=\"left\">MD</div></td><td><div align=\"right\">4220410</div></td><td><div align=\"right\">4043</div></td><td><div align=\"right\">13960</div></td><td><div align=\"right\">0</div></td><td><div align=\"right\">0</div></td><td><div align=\"right\">0</div></td><td><div align=\"right\">0</div></td><td><div align=\"right\">0</div></td><td><div align=\"right\">0</div></td><td><div align=\"right\">0</div></td></tr>\n",
       "<tr><td><div align=\"left\">ME</div></td><td><div align=\"right\">1303362</div></td><td><div align=\"right\">3654</div></td><td><div align=\"right\">0</div></td><td><div align=\"right\">0</div></td><td><div align=\"right\">0</div></td><td><div align=\"right\">0</div></td><td><div align=\"right\">0</div></td><td><div align=\"right\">0</div></td><td><div align=\"right\">0</div></td><td><div align=\"right\">0</div></td></tr>\n",
       "<tr><td><div align=\"left\">MI</div></td><td><div align=\"right\">6055953</div></td><td><div align=\"right\">125519</div></td><td><div align=\"right\">0</div></td><td><div align=\"right\">0</div></td><td><div align=\"right\">0</div></td><td><div align=\"right\">0</div></td><td><div align=\"right\">0</div></td><td><div align=\"right\">0</div></td><td><div align=\"right\">0</div></td><td><div align=\"right\">0</div></td></tr>\n",
       "<tr><td><div align=\"left\">MN</div></td><td><div align=\"right\">3162341</div></td><td><div align=\"right\">1096168</div></td><td><div align=\"right\">0</div></td><td><div align=\"right\">0</div></td><td><div align=\"right\">0</div></td><td><div align=\"right\">0</div></td><td><div align=\"right\">0</div></td><td><div align=\"right\">0</div></td><td><div align=\"right\">0</div></td><td><div align=\"right\">0</div></td></tr>\n",
       "<tr><td><div align=\"left\">MO</div></td><td><div align=\"right\">3678018</div></td><td><div align=\"right\">806437</div></td><td><div align=\"right\">0</div></td><td><div align=\"right\">0</div></td><td><div align=\"right\">0</div></td><td><div align=\"right\">0</div></td><td><div align=\"right\">0</div></td><td><div align=\"right\">0</div></td><td><div align=\"right\">0</div></td><td><div align=\"right\">0</div></td></tr>\n",
       "<tr><td><div align=\"left\">MS</div></td><td><div align=\"right\">1633802</div></td><td><div align=\"right\">0</div></td><td><div align=\"right\">0</div></td><td><div align=\"right\">0</div></td><td><div align=\"right\">0</div></td><td><div align=\"right\">0</div></td><td><div align=\"right\">0</div></td><td><div align=\"right\">0</div></td><td><div align=\"right\">0</div></td><td><div align=\"right\">0</div></td></tr>\n",
       "<tr><td><div align=\"left\">MT</div></td><td><div align=\"right\">0</div></td><td><div align=\"right\">11136</div></td><td><div align=\"right\">101549</div></td><td><div align=\"right\">322874</div></td><td><div align=\"right\">108016</div></td><td><div align=\"right\">54527</div></td><td><div align=\"right\">2265</div></td><td><div align=\"right\">1260</div></td><td><div align=\"right\">0</div></td><td><div align=\"right\">0</div></td></tr>\n",
       "<tr><td><div align=\"left\">NC</div></td><td><div align=\"right\">4540539</div></td><td><div align=\"right\">271300</div></td><td><div align=\"right\">184002</div></td><td><div align=\"right\">18643</div></td><td><div align=\"right\">504</div></td><td><div align=\"right\">0</div></td><td><div align=\"right\">0</div></td><td><div align=\"right\">0</div></td><td><div align=\"right\">0</div></td><td><div align=\"right\">0</div></td></tr>\n",
       "<tr><td><div align=\"left\">ND</div></td><td><div align=\"right\">193479</div></td><td><div align=\"right\">232780</div></td><td><div align=\"right\">40115</div></td><td><div align=\"right\">171</div></td><td><div align=\"right\">0</div></td><td><div align=\"right\">0</div></td><td><div align=\"right\">0</div></td><td><div align=\"right\">0</div></td><td><div align=\"right\">0</div></td><td><div align=\"right\">0</div></td></tr>\n",
       "<tr><td><div align=\"left\">NE</div></td><td><div align=\"right\">12124</div></td><td><div align=\"right\">1144561</div></td><td><div align=\"right\">135450</div></td><td><div align=\"right\">61794</div></td><td><div align=\"right\">12030</div></td><td><div align=\"right\">0</div></td><td><div align=\"right\">0</div></td><td><div align=\"right\">0</div></td><td><div align=\"right\">0</div></td><td><div align=\"right\">0</div></td></tr>\n",
       "<tr><td><div align=\"left\">NH</div></td><td><div align=\"right\">1323703</div></td><td><div align=\"right\">69186</div></td><td><div align=\"right\">0</div></td><td><div align=\"right\">0</div></td><td><div align=\"right\">0</div></td><td><div align=\"right\">0</div></td><td><div align=\"right\">0</div></td><td><div align=\"right\">0</div></td><td><div align=\"right\">0</div></td><td><div align=\"right\">0</div></td></tr>\n",
       "<tr><td><div align=\"left\">NJ</div></td><td><div align=\"right\">6423000</div></td><td><div align=\"right\">42721</div></td><td><div align=\"right\">0</div></td><td><div align=\"right\">0</div></td><td><div align=\"right\">0</div></td><td><div align=\"right\">0</div></td><td><div align=\"right\">0</div></td><td><div align=\"right\">0</div></td><td><div align=\"right\">0</div></td><td><div align=\"right\">0</div></td></tr>\n",
       "<tr><td><div align=\"left\">NM</div></td><td><div align=\"right\">592</div></td><td><div align=\"right\">0</div></td><td><div align=\"right\">0</div></td><td><div align=\"right\">246012</div></td><td><div align=\"right\">729194</div></td><td><div align=\"right\">217683</div></td><td><div align=\"right\">203651</div></td><td><div align=\"right\">26750</div></td><td><div align=\"right\">2785</div></td><td><div align=\"right\">56</div></td></tr>\n",
       "<tr><td><div align=\"left\">NV</div></td><td><div align=\"right\">8174</div></td><td><div align=\"right\">619589</div></td><td><div align=\"right\">937663</div></td><td><div align=\"right\">15065</div></td><td><div align=\"right\">467598</div></td><td><div align=\"right\">35392</div></td><td><div align=\"right\">9136</div></td><td><div align=\"right\">3354</div></td><td><div align=\"right\">0</div></td><td><div align=\"right\">0</div></td></tr>\n",
       "<tr><td><div align=\"left\">NY</div></td><td><div align=\"right\">15291242</div></td><td><div align=\"right\">284874</div></td><td><div align=\"right\">0</div></td><td><div align=\"right\">0</div></td><td><div align=\"right\">0</div></td><td><div align=\"right\">0</div></td><td><div align=\"right\">0</div></td><td><div align=\"right\">0</div></td><td><div align=\"right\">0</div></td><td><div align=\"right\">0</div></td></tr>\n",
       "<tr><td><div align=\"left\">OH</div></td><td><div align=\"right\">6588849</div></td><td><div align=\"right\">1435591</div></td><td><div align=\"right\">0</div></td><td><div align=\"right\">0</div></td><td><div align=\"right\">0</div></td><td><div align=\"right\">0</div></td><td><div align=\"right\">0</div></td><td><div align=\"right\">0</div></td><td><div align=\"right\">0</div></td><td><div align=\"right\">0</div></td></tr>\n",
       "<tr><td><div align=\"left\">OK</div></td><td><div align=\"right\">1229889</div></td><td><div align=\"right\">1495400</div></td><td><div align=\"right\">11063</div></td><td><div align=\"right\">13211</div></td><td><div align=\"right\">1326</div></td><td><div align=\"right\">0</div></td><td><div align=\"right\">0</div></td><td><div align=\"right\">0</div></td><td><div align=\"right\">0</div></td><td><div align=\"right\">0</div></td></tr>\n",
       "<tr><td><div align=\"left\">OR</div></td><td><div align=\"right\">2320506</div></td><td><div align=\"right\">181837</div></td><td><div align=\"right\">56876</div></td><td><div align=\"right\">108118</div></td><td><div align=\"right\">59673</div></td><td><div align=\"right\">0</div></td><td><div align=\"right\">0</div></td><td><div align=\"right\">0</div></td><td><div align=\"right\">0</div></td><td><div align=\"right\">0</div></td></tr>\n",
       "<tr><td><div align=\"left\">PA</div></td><td><div align=\"right\">5546505</div></td><td><div align=\"right\">1275922</div></td><td><div align=\"right\">28839</div></td><td><div align=\"right\">0</div></td><td><div align=\"right\">0</div></td><td><div align=\"right\">0</div></td><td><div align=\"right\">0</div></td><td><div align=\"right\">0</div></td><td><div align=\"right\">0</div></td><td><div align=\"right\">0</div></td></tr>\n",
       "<tr><td><div align=\"left\">RI</div></td><td><div align=\"right\">1007056</div></td><td><div align=\"right\">0</div></td><td><div align=\"right\">0</div></td><td><div align=\"right\">0</div></td><td><div align=\"right\">0</div></td><td><div align=\"right\">0</div></td><td><div align=\"right\">0</div></td><td><div align=\"right\">0</div></td><td><div align=\"right\">0</div></td><td><div align=\"right\">0</div></td></tr>\n",
       "<tr><td><div align=\"left\">SC</div></td><td><div align=\"right\">1725460</div></td><td><div align=\"right\">170480</div></td><td><div align=\"right\">0</div></td><td><div align=\"right\">0</div></td><td><div align=\"right\">0</div></td><td><div align=\"right\">0</div></td><td><div align=\"right\">0</div></td><td><div align=\"right\">0</div></td><td><div align=\"right\">0</div></td><td><div align=\"right\">0</div></td></tr>\n",
       "<tr><td><div align=\"left\">SD</div></td><td><div align=\"right\">18</div></td><td><div align=\"right\">403497</div></td><td><div align=\"right\">24190</div></td><td><div align=\"right\">112765</div></td><td><div align=\"right\">5885</div></td><td><div align=\"right\">4735</div></td><td><div align=\"right\">0</div></td><td><div align=\"right\">0</div></td><td><div align=\"right\">0</div></td><td><div align=\"right\">0</div></td></tr>\n",
       "<tr><td><div align=\"left\">TN</div></td><td><div align=\"right\">3956628</div></td><td><div align=\"right\">461713</div></td><td><div align=\"right\">10030</div></td><td><div align=\"right\">0</div></td><td><div align=\"right\">0</div></td><td><div align=\"right\">0</div></td><td><div align=\"right\">0</div></td><td><div align=\"right\">0</div></td><td><div align=\"right\">0</div></td><td><div align=\"right\">0</div></td></tr>\n",
       "<tr><td><div align=\"left\">TX</div></td><td><div align=\"right\">15738642</div></td><td><div align=\"right\">617989</div></td><td><div align=\"right\">367519</div></td><td><div align=\"right\">1305768</div></td><td><div align=\"right\">46640</div></td><td><div align=\"right\">0</div></td><td><div align=\"right\">0</div></td><td><div align=\"right\">0</div></td><td><div align=\"right\">0</div></td><td><div align=\"right\">0</div></td></tr>\n",
       "<tr><td><div align=\"left\">UT</div></td><td><div align=\"right\">0</div></td><td><div align=\"right\">0</div></td><td><div align=\"right\">79561</div></td><td><div align=\"right\">24623</div></td><td><div align=\"right\">2119952</div></td><td><div align=\"right\">185264</div></td><td><div align=\"right\">26071</div></td><td><div align=\"right\">11625</div></td><td><div align=\"right\">360</div></td><td><div align=\"right\">108</div></td></tr>\n",
       "<tr><td><div align=\"left\">VA</div></td><td><div align=\"right\">4396533</div></td><td><div align=\"right\">367070</div></td><td><div align=\"right\">126064</div></td><td><div align=\"right\">174</div></td><td><div align=\"right\">0</div></td><td><div align=\"right\">0</div></td><td><div align=\"right\">0</div></td><td><div align=\"right\">0</div></td><td><div align=\"right\">0</div></td><td><div align=\"right\">0</div></td></tr>\n",
       "<tr><td><div align=\"left\">VT</div></td><td><div align=\"right\">317037</div></td><td><div align=\"right\">8127</div></td><td><div align=\"right\">0</div></td><td><div align=\"right\">0</div></td><td><div align=\"right\">0</div></td><td><div align=\"right\">0</div></td><td><div align=\"right\">0</div></td><td><div align=\"right\">0</div></td><td><div align=\"right\">0</div></td><td><div align=\"right\">0</div></td></tr>\n",
       "<tr><td><div align=\"left\">WA</div></td><td><div align=\"right\">4012616</div></td><td><div align=\"right\">462774</div></td><td><div align=\"right\">116913</div></td><td><div align=\"right\">120</div></td><td><div align=\"right\">0</div></td><td><div align=\"right\">0</div></td><td><div align=\"right\">0</div></td><td><div align=\"right\">0</div></td><td><div align=\"right\">0</div></td><td><div align=\"right\">0</div></td></tr>\n",
       "<tr><td><div align=\"left\">WI</div></td><td><div align=\"right\">3595510</div></td><td><div align=\"right\">398480</div></td><td><div align=\"right\">0</div></td><td><div align=\"right\">0</div></td><td><div align=\"right\">0</div></td><td><div align=\"right\">0</div></td><td><div align=\"right\">0</div></td><td><div align=\"right\">0</div></td><td><div align=\"right\">0</div></td><td><div align=\"right\">0</div></td></tr>\n",
       "<tr><td><div align=\"left\">WV</div></td><td><div align=\"right\">561894</div></td><td><div align=\"right\">124043</div></td><td><div align=\"right\">84767</div></td><td><div align=\"right\">1453</div></td><td><div align=\"right\">0</div></td><td><div align=\"right\">0</div></td><td><div align=\"right\">0</div></td><td><div align=\"right\">0</div></td><td><div align=\"right\">0</div></td><td><div align=\"right\">0</div></td></tr>\n",
       "<tr><td><div align=\"left\">WY</div></td><td><div align=\"right\">0</div></td><td><div align=\"right\">0</div></td><td><div align=\"right\">0</div></td><td><div align=\"right\">23982</div></td><td><div align=\"right\">90627</div></td><td><div align=\"right\">85101</div></td><td><div align=\"right\">152456</div></td><td><div align=\"right\">30255</div></td><td><div align=\"right\">286</div></td><td><div align=\"right\">0</div></td></tr>\n",
       "<tr><td><div align=\"left\">Total</div></td><td><div align=\"right\">184718782</div></td><td><div align=\"right\">22464911</div></td><td><div align=\"right\">4703076</div></td><td><div align=\"right\">2720285</div></td><td><div align=\"right\">4678777</div></td><td><div align=\"right\">3281299</div></td><td><div align=\"right\">1103386</div></td><td><div align=\"right\">210123</div></td><td><div align=\"right\">36772</div></td><td><div align=\"right\">13202</div></td></tr>\n",
       "</tbody>\n",
       "</table>\n"
      ],
      "text/plain": [
       "<IPython.core.display.HTML object>"
      ]
     },
     "metadata": {},
     "output_type": "display_data"
    }
   ],
   "source": [
    "# display table of residents in each state by elevation\n",
    "_HTML(\n",
    "    piv.summarize(lambda recs: sum(r.pop for r in recs))\n",
    ")"
   ]
  },
  {
   "cell_type": "code",
   "execution_count": 31,
   "metadata": {
    "ExecuteTime": {
     "end_time": "2024-03-21T22:35:50.829725Z",
     "start_time": "2024-03-21T22:35:50.776703Z"
    },
    "collapsed": false
   },
   "outputs": [
    {
     "data": {
      "text/html": [
       "<table>\n",
       "<thead>\n",
       "<tr><th><div align=\"center\">state</div></th><th><div align=\"center\">ave elevation</div></th></tr>\n",
       "</thead>\n",
       "<tbody><tr><td><div align=\"left\">AK</div></td><td><div align=\"right\">175</div></td></tr>\n",
       "<tr><td><div align=\"left\">AL</div></td><td><div align=\"right\">476</div></td></tr>\n",
       "<tr><td><div align=\"left\">AR</div></td><td><div align=\"right\">513</div></td></tr>\n",
       "<tr><td><div align=\"left\">AZ</div></td><td><div align=\"right\">1718</div></td></tr>\n",
       "<tr><td><div align=\"left\">CA</div></td><td><div align=\"right\">398</div></td></tr>\n",
       "<tr><td><div align=\"left\">CO</div></td><td><div align=\"right\">5496</div></td></tr>\n",
       "<tr><td><div align=\"left\">CT</div></td><td><div align=\"right\">173</div></td></tr>\n",
       "<tr><td><div align=\"left\">DC</div></td><td><div align=\"right\">23</div></td></tr>\n",
       "<tr><td><div align=\"left\">DE</div></td><td><div align=\"right\">86</div></td></tr>\n",
       "<tr><td><div align=\"left\">FL</div></td><td><div align=\"right\">34</div></td></tr>\n",
       "<tr><td><div align=\"left\">GA</div></td><td><div align=\"right\">694</div></td></tr>\n",
       "<tr><td><div align=\"left\">HI</div></td><td><div align=\"right\">218</div></td></tr>\n",
       "<tr><td><div align=\"left\">IA</div></td><td><div align=\"right\">915</div></td></tr>\n",
       "<tr><td><div align=\"left\">ID</div></td><td><div align=\"right\">3120</div></td></tr>\n",
       "<tr><td><div align=\"left\">IL</div></td><td><div align=\"right\">643</div></td></tr>\n",
       "<tr><td><div align=\"left\">IN</div></td><td><div align=\"right\">718</div></td></tr>\n",
       "<tr><td><div align=\"left\">KS</div></td><td><div align=\"right\">1251</div></td></tr>\n",
       "<tr><td><div align=\"left\">KY</div></td><td><div align=\"right\">719</div></td></tr>\n",
       "<tr><td><div align=\"left\">LA</div></td><td><div align=\"right\">47</div></td></tr>\n",
       "<tr><td><div align=\"left\">MA</div></td><td><div align=\"right\">165</div></td></tr>\n",
       "<tr><td><div align=\"left\">MD</div></td><td><div align=\"right\">243</div></td></tr>\n",
       "<tr><td><div align=\"left\">ME</div></td><td><div align=\"right\">192</div></td></tr>\n",
       "<tr><td><div align=\"left\">MI</div></td><td><div align=\"right\">703</div></td></tr>\n",
       "<tr><td><div align=\"left\">MN</div></td><td><div align=\"right\">947</div></td></tr>\n",
       "<tr><td><div align=\"left\">MO</div></td><td><div align=\"right\">764</div></td></tr>\n",
       "<tr><td><div align=\"left\">MS</div></td><td><div align=\"right\">229</div></td></tr>\n",
       "<tr><td><div align=\"left\">MT</div></td><td><div align=\"right\">3557</div></td></tr>\n",
       "<tr><td><div align=\"left\">NC</div></td><td><div align=\"right\">608</div></td></tr>\n",
       "<tr><td><div align=\"left\">ND</div></td><td><div align=\"right\">1374</div></td></tr>\n",
       "<tr><td><div align=\"left\">NE</div></td><td><div align=\"right\">1492</div></td></tr>\n",
       "<tr><td><div align=\"left\">NH</div></td><td><div align=\"right\">374</div></td></tr>\n",
       "<tr><td><div align=\"left\">NJ</div></td><td><div align=\"right\">121</div></td></tr>\n",
       "<tr><td><div align=\"left\">NM</div></td><td><div align=\"right\">5031</div></td></tr>\n",
       "<tr><td><div align=\"left\">NV</div></td><td><div align=\"right\">2663</div></td></tr>\n",
       "<tr><td><div align=\"left\">NY</div></td><td><div align=\"right\">164</div></td></tr>\n",
       "<tr><td><div align=\"left\">OH</div></td><td><div align=\"right\">824</div></td></tr>\n",
       "<tr><td><div align=\"left\">OK</div></td><td><div align=\"right\">1012</div></td></tr>\n",
       "<tr><td><div align=\"left\">OR</div></td><td><div align=\"right\">553</div></td></tr>\n",
       "<tr><td><div align=\"left\">PA</div></td><td><div align=\"right\">554</div></td></tr>\n",
       "<tr><td><div align=\"left\">RI</div></td><td><div align=\"right\">105</div></td></tr>\n",
       "<tr><td><div align=\"left\">SC</div></td><td><div align=\"right\">399</div></td></tr>\n",
       "<tr><td><div align=\"left\">SD</div></td><td><div align=\"right\">1946</div></td></tr>\n",
       "<tr><td><div align=\"left\">TN</div></td><td><div align=\"right\">604</div></td></tr>\n",
       "<tr><td><div align=\"left\">TX</div></td><td><div align=\"right\">716</div></td></tr>\n",
       "<tr><td><div align=\"left\">UT</div></td><td><div align=\"right\">4505</div></td></tr>\n",
       "<tr><td><div align=\"left\">VA</div></td><td><div align=\"right\">338</div></td></tr>\n",
       "<tr><td><div align=\"left\">VT</div></td><td><div align=\"right\">467</div></td></tr>\n",
       "<tr><td><div align=\"left\">WA</div></td><td><div align=\"right\">419</div></td></tr>\n",
       "<tr><td><div align=\"left\">WI</div></td><td><div align=\"right\">791</div></td></tr>\n",
       "<tr><td><div align=\"left\">WV</div></td><td><div align=\"right\">979</div></td></tr>\n",
       "<tr><td><div align=\"left\">WY</div></td><td><div align=\"right\">5555</div></td></tr>\n",
       "</tbody>\n",
       "</table>"
      ],
      "text/plain": [
       "<IPython.core.display.HTML object>"
      ]
     },
     "metadata": {},
     "output_type": "display_data"
    }
   ],
   "source": [
    "# what is the average resident elevation by state?\n",
    "piv = us_ppl.pivot('state')\n",
    "_HTML(\n",
    "    piv.summarize(\n",
    "        lambda recs: int(sum(r.pop*r.elev for r in recs)/sum(r.pop for r in recs)),\n",
    "        col_label='ave elevation'\n",
    "    )\n",
    ")"
   ]
  },
  {
   "cell_type": "code",
   "execution_count": null,
   "metadata": {
    "collapsed": true,
    "jupyter": {
     "outputs_hidden": true
    }
   },
   "outputs": [],
   "source": []
  }
 ],
 "metadata": {
  "celltoolbar": "Raw Cell Format",
  "kernelspec": {
   "display_name": "Python 3 (ipykernel)",
   "language": "python",
   "name": "python3"
  },
  "language_info": {
   "codemirror_mode": {
    "name": "ipython",
    "version": 3
   },
   "file_extension": ".py",
   "mimetype": "text/x-python",
   "name": "python",
   "nbconvert_exporter": "python",
   "pygments_lexer": "ipython3",
   "version": "3.11.6"
  }
 },
 "nbformat": 4,
 "nbformat_minor": 4
}
