{
 "cells": [
  {
   "cell_type": "markdown",
   "source": [
    "# Explore Python PEP data using littletable\n",
    "\n",
    "Load and examine a zipped JSON extract of data on Python PEPs.\n",
    " - access data by unique `id` key\n",
    " - access table using normal slice notation\n",
    " - present table in tabular, JSON, or CSV output\n",
    " - create a full-text search index on the abstract field"
   ],
   "metadata": {
    "collapsed": false
   },
   "id": "60ecb3570baa72d1"
  },
  {
   "cell_type": "code",
   "outputs": [],
   "source": [
    "import littletable as lt"
   ],
   "metadata": {
    "collapsed": true,
    "ExecuteTime": {
     "end_time": "2024-03-25T19:59:12.469927Z",
     "start_time": "2024-03-25T19:59:12.465532Z"
    }
   },
   "id": "initial_id",
   "execution_count": 3
  },
  {
   "cell_type": "code",
   "outputs": [
    {
     "data": {
      "text/plain": "{'len': 642,\n 'name': 'peps.json.zip',\n 'fields': ['id',\n  'title',\n  'authors',\n  'discussions_to',\n  'status',\n  'type',\n  'topic',\n  'created',\n  'python_version',\n  'post_history',\n  'resolution',\n  'requires',\n  'replaces',\n  'superseded_by',\n  'url',\n  'abstract'],\n 'indexes': [],\n 'created': datetime.datetime(2024, 3, 25, 20, 6, 51, 891354, tzinfo=datetime.timezone.utc),\n 'modified': datetime.datetime(2024, 3, 25, 20, 6, 51, 898138, tzinfo=datetime.timezone.utc),\n 'last_import': datetime.datetime(2024, 3, 25, 20, 6, 51, 898138, tzinfo=datetime.timezone.utc)}"
     },
     "execution_count": 23,
     "metadata": {},
     "output_type": "execute_result"
    }
   ],
   "source": [
    "# examine first 3 rows of data (except for \"abstract\" field)\n",
    "peek = lt.Table().json_import(\"peps.json.zip\")\n",
    "peek.info()"
   ],
   "metadata": {
    "collapsed": false,
    "ExecuteTime": {
     "end_time": "2024-03-25T20:06:51.902807Z",
     "start_time": "2024-03-25T20:06:51.889377Z"
    }
   },
   "id": "c8aec87cd29286dd",
   "execution_count": 23
  },
  {
   "cell_type": "code",
   "outputs": [
    {
     "name": "stdout",
     "output_type": "stream",
     "text": []
    },
    {
     "data": {
      "text/plain": "\u001B[3m                                                   peps.json.zip                                                   \u001B[0m\n+-----------------------------------------------------------------------------------------------------------------+\n|\u001B[1;33m    \u001B[0m|\u001B[1;33m       \u001B[0m|\u001B[1;33m       \u001B[0m|\u001B[1;33m \u001B[0m\u001B[1;33mDisc…\u001B[0m\u001B[1;33m \u001B[0m|\u001B[1;33m       \u001B[0m|\u001B[1;33m       \u001B[0m|\u001B[1;33m       \u001B[0m|\u001B[1;33m       \u001B[0m|\u001B[1;33m \u001B[0m\u001B[1;33mPyth…\u001B[0m\u001B[1;33m \u001B[0m|\u001B[1;33m \u001B[0m\u001B[1;33mPost \u001B[0m\u001B[1;33m \u001B[0m|\u001B[1;33m      \u001B[0m|\u001B[1;33m       \u001B[0m|\u001B[1;33m      \u001B[0m|\u001B[1;33m \u001B[0m\u001B[1;33mSupe…\u001B[0m\u001B[1;33m \u001B[0m|\u001B[1;33m      \u001B[0m|\n|\u001B[1;33m \u001B[0m\u001B[1;33mId\u001B[0m\u001B[1;33m \u001B[0m|\u001B[1;33m \u001B[0m\u001B[1;33mTitle\u001B[0m\u001B[1;33m \u001B[0m|\u001B[1;33m \u001B[0m\u001B[1;33mAuth…\u001B[0m\u001B[1;33m \u001B[0m|\u001B[1;33m \u001B[0m\u001B[1;33m To  \u001B[0m\u001B[1;33m \u001B[0m|\u001B[1;33m \u001B[0m\u001B[1;33mStat…\u001B[0m\u001B[1;33m \u001B[0m|\u001B[1;33m \u001B[0m\u001B[1;33mType \u001B[0m\u001B[1;33m \u001B[0m|\u001B[1;33m \u001B[0m\u001B[1;33mTopic\u001B[0m\u001B[1;33m \u001B[0m|\u001B[1;33m \u001B[0m\u001B[1;33mCrea…\u001B[0m\u001B[1;33m \u001B[0m|\u001B[1;33m \u001B[0m\u001B[1;33mVers…\u001B[0m\u001B[1;33m \u001B[0m|\u001B[1;33m \u001B[0m\u001B[1;33mHist…\u001B[0m\u001B[1;33m \u001B[0m|\u001B[1;33m \u001B[0m\u001B[1;33mRes…\u001B[0m\u001B[1;33m \u001B[0m|\u001B[1;33m \u001B[0m\u001B[1;33mRequ…\u001B[0m\u001B[1;33m \u001B[0m|\u001B[1;33m \u001B[0m\u001B[1;33mRep…\u001B[0m\u001B[1;33m \u001B[0m|\u001B[1;33m \u001B[0m\u001B[1;33m By  \u001B[0m\u001B[1;33m \u001B[0m|\u001B[1;33m \u001B[0m\u001B[1;33mUrl \u001B[0m\u001B[1;33m \u001B[0m|\n|----+-------+-------+-------+-------+-------+-------+-------+-------+-------+------+-------+------+-------+------|\n|  0 | Index | pyth… |       | Acti… | Info… |       | 13-J… |       |       |      |       |      |       | htt… |\n|    | of    |       |       |       |       |       |       |       |       |      |       |      |       |      |\n|    | Pyth… |       |       |       |       |       |       |       |       |      |       |      |       |      |\n|    | Enha… |       |       |       |       |       |       |       |       |      |       |      |       |      |\n|    | Prop… |       |       |       |       |       |       |       |       |      |       |      |       |      |\n|    | (PEP… |       |       |       |       |       |       |       |       |      |       |      |       |      |\n|  1 | PEP   | Wars… |       | Acti… | Proc… |       | 13-J… |       | 21-M… |      |       |      |       | htt… |\n|    | Purp… | Hylt… |       |       |       |       |       |       | 29-J… |      |       |      |       |      |\n|    | and   | Good… |       |       |       |       |       |       | 03-M… |      |       |      |       |      |\n|    | Guid… | Cogh… |       |       |       |       |       |       | 05-M… |      |       |      |       |      |\n|    |       |       |       |       |       |       |       |       | 07-A… |      |       |      |       |      |\n|  2 | Proc… | Cann… |       | Acti… | Proc… |       | 07-J… |       | 07-J… |      |       |      |       | htt… |\n|    | for   | Faas… |       |       |       |       |       |       | 09-M… |      |       |      |       |      |\n|    | Addi… |       |       |       |       |       |       |       |       |      |       |      |       |      |\n|    | New   |       |       |       |       |       |       |       |       |      |       |      |       |      |\n|    | Modu… |       |       |       |       |       |       |       |       |      |       |      |       |      |\n+-----------------------------------------------------------------------------------------------------------------+\n",
      "text/html": "<pre style=\"white-space:pre;overflow-x:auto;line-height:normal;font-family:Menlo,'DejaVu Sans Mono',consolas,'Courier New',monospace\"><span style=\"font-style: italic\">                                                   peps.json.zip                                                   </span>\n+-----------------------------------------------------------------------------------------------------------------+\n|<span style=\"color: #808000; text-decoration-color: #808000; font-weight: bold\">    </span>|<span style=\"color: #808000; text-decoration-color: #808000; font-weight: bold\">       </span>|<span style=\"color: #808000; text-decoration-color: #808000; font-weight: bold\">       </span>|<span style=\"color: #808000; text-decoration-color: #808000; font-weight: bold\"> Disc… </span>|<span style=\"color: #808000; text-decoration-color: #808000; font-weight: bold\">       </span>|<span style=\"color: #808000; text-decoration-color: #808000; font-weight: bold\">       </span>|<span style=\"color: #808000; text-decoration-color: #808000; font-weight: bold\">       </span>|<span style=\"color: #808000; text-decoration-color: #808000; font-weight: bold\">       </span>|<span style=\"color: #808000; text-decoration-color: #808000; font-weight: bold\"> Pyth… </span>|<span style=\"color: #808000; text-decoration-color: #808000; font-weight: bold\"> Post  </span>|<span style=\"color: #808000; text-decoration-color: #808000; font-weight: bold\">      </span>|<span style=\"color: #808000; text-decoration-color: #808000; font-weight: bold\">       </span>|<span style=\"color: #808000; text-decoration-color: #808000; font-weight: bold\">      </span>|<span style=\"color: #808000; text-decoration-color: #808000; font-weight: bold\"> Supe… </span>|<span style=\"color: #808000; text-decoration-color: #808000; font-weight: bold\">      </span>|\n|<span style=\"color: #808000; text-decoration-color: #808000; font-weight: bold\"> Id </span>|<span style=\"color: #808000; text-decoration-color: #808000; font-weight: bold\"> Title </span>|<span style=\"color: #808000; text-decoration-color: #808000; font-weight: bold\"> Auth… </span>|<span style=\"color: #808000; text-decoration-color: #808000; font-weight: bold\">  To   </span>|<span style=\"color: #808000; text-decoration-color: #808000; font-weight: bold\"> Stat… </span>|<span style=\"color: #808000; text-decoration-color: #808000; font-weight: bold\"> Type  </span>|<span style=\"color: #808000; text-decoration-color: #808000; font-weight: bold\"> Topic </span>|<span style=\"color: #808000; text-decoration-color: #808000; font-weight: bold\"> Crea… </span>|<span style=\"color: #808000; text-decoration-color: #808000; font-weight: bold\"> Vers… </span>|<span style=\"color: #808000; text-decoration-color: #808000; font-weight: bold\"> Hist… </span>|<span style=\"color: #808000; text-decoration-color: #808000; font-weight: bold\"> Res… </span>|<span style=\"color: #808000; text-decoration-color: #808000; font-weight: bold\"> Requ… </span>|<span style=\"color: #808000; text-decoration-color: #808000; font-weight: bold\"> Rep… </span>|<span style=\"color: #808000; text-decoration-color: #808000; font-weight: bold\">  By   </span>|<span style=\"color: #808000; text-decoration-color: #808000; font-weight: bold\"> Url  </span>|\n|----+-------+-------+-------+-------+-------+-------+-------+-------+-------+------+-------+------+-------+------|\n|  0 | Index | pyth… |       | Acti… | Info… |       | 13-J… |       |       |      |       |      |       | htt… |\n|    | of    |       |       |       |       |       |       |       |       |      |       |      |       |      |\n|    | Pyth… |       |       |       |       |       |       |       |       |      |       |      |       |      |\n|    | Enha… |       |       |       |       |       |       |       |       |      |       |      |       |      |\n|    | Prop… |       |       |       |       |       |       |       |       |      |       |      |       |      |\n|    | (PEP… |       |       |       |       |       |       |       |       |      |       |      |       |      |\n|  1 | PEP   | Wars… |       | Acti… | Proc… |       | 13-J… |       | 21-M… |      |       |      |       | htt… |\n|    | Purp… | Hylt… |       |       |       |       |       |       | 29-J… |      |       |      |       |      |\n|    | and   | Good… |       |       |       |       |       |       | 03-M… |      |       |      |       |      |\n|    | Guid… | Cogh… |       |       |       |       |       |       | 05-M… |      |       |      |       |      |\n|    |       |       |       |       |       |       |       |       | 07-A… |      |       |      |       |      |\n|  2 | Proc… | Cann… |       | Acti… | Proc… |       | 07-J… |       | 07-J… |      |       |      |       | htt… |\n|    | for   | Faas… |       |       |       |       |       |       | 09-M… |      |       |      |       |      |\n|    | Addi… |       |       |       |       |       |       |       |       |      |       |      |       |      |\n|    | New   |       |       |       |       |       |       |       |       |      |       |      |       |      |\n|    | Modu… |       |       |       |       |       |       |       |       |      |       |      |       |      |\n+-----------------------------------------------------------------------------------------------------------------+\n</pre>\n"
     },
     "metadata": {},
     "output_type": "display_data"
    }
   ],
   "source": [
    "# look at the first 3 rows, omitting the \"abstract\" field\n",
    "peek.select(\"-abstract\")[:3].present()"
   ],
   "metadata": {
    "collapsed": false,
    "ExecuteTime": {
     "end_time": "2024-03-25T20:08:06.470839Z",
     "start_time": "2024-03-25T20:08:06.453391Z"
    }
   },
   "id": "46246f776fc4742",
   "execution_count": 25
  },
  {
   "cell_type": "code",
   "outputs": [],
   "source": [
    "# import PEP data from zipped JSON, converting id's to ints and created date stings to Python datetimes\n",
    "peps = lt.Table().json_import(\n",
    "    \"peps.json.zip\",\n",
    "    transforms={\n",
    "        \"id\": int,\n",
    "        \"created\": lt.Table.parse_date(\"%d-%b-%Y\"),\n",
    "    }\n",
    ")"
   ],
   "metadata": {
    "collapsed": false,
    "ExecuteTime": {
     "end_time": "2024-03-25T20:06:53.179218Z",
     "start_time": "2024-03-25T20:06:53.161265Z"
    }
   },
   "id": "6de94f2939809356",
   "execution_count": 24
  },
  {
   "cell_type": "code",
   "outputs": [
    {
     "data": {
      "text/plain": "{'len': 642,\n 'name': 'peps.json.zip',\n 'fields': ['id',\n  'title',\n  'authors',\n  'discussions_to',\n  'status',\n  'type',\n  'topic',\n  'created',\n  'python_version',\n  'post_history',\n  'resolution',\n  'requires',\n  'replaces',\n  'superseded_by',\n  'url',\n  'abstract'],\n 'indexes': [],\n 'created': datetime.datetime(2024, 3, 25, 19, 59, 19, 196974, tzinfo=datetime.timezone.utc),\n 'modified': datetime.datetime(2024, 3, 25, 19, 59, 19, 210519, tzinfo=datetime.timezone.utc),\n 'last_import': datetime.datetime(2024, 3, 25, 19, 59, 19, 210519, tzinfo=datetime.timezone.utc)}"
     },
     "execution_count": 7,
     "metadata": {},
     "output_type": "execute_result"
    }
   ],
   "source": [
    "# display summary Table info\n",
    "peps.info()"
   ],
   "metadata": {
    "collapsed": false,
    "ExecuteTime": {
     "end_time": "2024-03-25T19:59:24.023706Z",
     "start_time": "2024-03-25T19:59:24.016592Z"
    }
   },
   "id": "aac547089e1cab23",
   "execution_count": 7
  },
  {
   "cell_type": "code",
   "outputs": [
    {
     "name": "stdout",
     "output_type": "stream",
     "text": [
      "PEP20: The Zen of Python\n"
     ]
    }
   ],
   "source": [
    "# access records by unique PEP id\n",
    "peps.create_index(\"id\", unique=True)\n",
    "print(\"PEP20:\", peps.by.id[20].title)"
   ],
   "metadata": {
    "collapsed": false,
    "ExecuteTime": {
     "end_time": "2024-03-25T19:59:25.686606Z",
     "start_time": "2024-03-25T19:59:25.680872Z"
    }
   },
   "id": "84ac112ba8b134e",
   "execution_count": 8
  },
  {
   "cell_type": "code",
   "outputs": [
    {
     "data": {
      "text/plain": "<littletable.Table at 0x23341412f50>"
     },
     "execution_count": 9,
     "metadata": {},
     "output_type": "execute_result"
    }
   ],
   "source": [
    "# add a numeric \"year\" field, and index it (non-unique index, since there are multiple PEPs in any given year)\n",
    "peps.add_field(\"year\", lambda pep: pep.created.year)\n",
    "peps.create_index(\"year\")"
   ],
   "metadata": {
    "collapsed": false,
    "ExecuteTime": {
     "end_time": "2024-03-25T19:59:31.905438Z",
     "start_time": "2024-03-25T19:59:31.900099Z"
    }
   },
   "id": "5a6b63eed7eb9ca7",
   "execution_count": 9
  },
  {
   "cell_type": "code",
   "outputs": [
    {
     "name": "stdout",
     "output_type": "stream",
     "text": []
    },
    {
     "data": {
      "text/plain": "\u001B[3m                                               PEPs Created in 2016                                                \u001B[0m\n+-----------------------------------------------------------------------------------------------------------------+\n|\u001B[1;33m \u001B[0m\u001B[1;33m Id\u001B[0m\u001B[1;33m \u001B[0m|\u001B[1;33m \u001B[0m\u001B[1;33mPython Version\u001B[0m\u001B[1;33m \u001B[0m|\u001B[1;33m \u001B[0m\u001B[1;33mTitle                                  \u001B[0m\u001B[1;33m \u001B[0m|\u001B[1;33m \u001B[0m\u001B[1;33mStatus    \u001B[0m\u001B[1;33m \u001B[0m|\u001B[1;33m \u001B[0m\u001B[1;33mUrl                              \u001B[0m\u001B[1;33m \u001B[0m|\n|-----+----------------+-----------------------------------------+------------+-----------------------------------|\n| 509 | 3.6            | Add a private version to dict           | Final      | https://peps.python.org/pep-0509/ |\n| 510 | 3.6            | Specialize functions with guards        | Rejected   | https://peps.python.org/pep-0510/ |\n| 511 | 3.6            | API for code transformers               | Rejected   | https://peps.python.org/pep-0511/ |\n| 513 |                | A Platform Tag for Portable Linux Built | Superseded | https://peps.python.org/pep-0513/ |\n|     |                | Distributions                           |            |                                   |\n| 514 |                | Python registration in the Windows      | Active     | https://peps.python.org/pep-0514/ |\n|     |                | registry                                |            |                                   |\n| 515 | 3.6            | Underscores in Numeric Literals         | Final      | https://peps.python.org/pep-0515/ |\n| 518 |                | Specifying Minimum Build System         | Final      | https://peps.python.org/pep-0518/ |\n|     |                | Requirements for Python Projects        |            |                                   |\n| 519 | 3.6            | Adding a file system path protocol      | Final      | https://peps.python.org/pep-0519/ |\n| 520 | 3.6            | Preserving Class Attribute Definition   | Final      | https://peps.python.org/pep-0520/ |\n|     |                | Order                                   |            |                                   |\n| 522 | 3.6            | Allow BlockingIOError in security       | Rejected   | https://peps.python.org/pep-0522/ |\n|     |                | sensitive APIs                          |            |                                   |\n| 523 | 3.6            | Adding a frame evaluation API to        | Final      | https://peps.python.org/pep-0523/ |\n|     |                | CPython                                 |            |                                   |\n| 524 | 3.6            | Make os.urandom() blocking on Linux     | Final      | https://peps.python.org/pep-0524/ |\n| 525 | 3.6            | Asynchronous Generators                 | Final      | https://peps.python.org/pep-0525/ |\n| 526 | 3.6            | Syntax for Variable Annotations         | Final      | https://peps.python.org/pep-0526/ |\n| 527 |                | Removing Un(der)used file               | Final      | https://peps.python.org/pep-0527/ |\n|     |                | types/extensions on PyPI                |            |                                   |\n| 528 | 3.6            | Change Windows console encoding to      | Final      | https://peps.python.org/pep-0528/ |\n|     |                | UTF-8                                   |            |                                   |\n| 529 | 3.6            | Change Windows filesystem encoding to   | Final      | https://peps.python.org/pep-0529/ |\n|     |                | UTF-8                                   |            |                                   |\n| 530 | 3.6            | Asynchronous Comprehensions             | Final      | https://peps.python.org/pep-0530/ |\n| 531 | 3.7            | Existence checking operators            | Withdrawn  | https://peps.python.org/pep-0531/ |\n| 532 | 3.8            | A circuit breaking protocol and binary  | Deferred   | https://peps.python.org/pep-0532/ |\n|     |                | operators                               |            |                                   |\n| 533 |                | Deterministic cleanup for iterators     | Deferred   | https://peps.python.org/pep-0533/ |\n| 534 |                | Improved Errors for Missing Standard    | Deferred   | https://peps.python.org/pep-0534/ |\n|     |                | Library Modules                         |            |                                   |\n| 535 | 3.8            | Rich comparison chaining                | Deferred   | https://peps.python.org/pep-0535/ |\n| 536 | 3.7            | Final Grammar for Literal String        | Deferred   | https://peps.python.org/pep-0536/ |\n|     |                | Interpolation                           |            |                                   |\n| 537 | 3.7            | Python 3.7 Release Schedule             | Active     | https://peps.python.org/pep-0537/ |\n| 538 | 3.7            | Coercing the legacy C locale to a UTF-8 | Final      | https://peps.python.org/pep-0538/ |\n|     |                | based locale                            |            |                                   |\n| 539 | 3.7            | A New C-API for Thread-Local Storage in | Final      | https://peps.python.org/pep-0539/ |\n|     |                | CPython                                 |            |                                   |\n| 540 | 3.7            | Add a new UTF-8 Mode                    | Final      | https://peps.python.org/pep-0540/ |\n| 543 | 3.7            | A Unified TLS API for Python            | Withdrawn  | https://peps.python.org/pep-0543/ |\n| 573 | 3.9            | Module State Access from C Extension    | Final      | https://peps.python.org/pep-0573/ |\n|     |                | Methods                                 |            |                                   |\n+-----------------------------------------------------------------------------------------------------------------+\n",
      "text/html": "<pre style=\"white-space:pre;overflow-x:auto;line-height:normal;font-family:Menlo,'DejaVu Sans Mono',consolas,'Courier New',monospace\"><span style=\"font-style: italic\">                                               PEPs Created in 2016                                                </span>\n+-----------------------------------------------------------------------------------------------------------------+\n|<span style=\"color: #808000; text-decoration-color: #808000; font-weight: bold\">  Id </span>|<span style=\"color: #808000; text-decoration-color: #808000; font-weight: bold\"> Python Version </span>|<span style=\"color: #808000; text-decoration-color: #808000; font-weight: bold\"> Title                                   </span>|<span style=\"color: #808000; text-decoration-color: #808000; font-weight: bold\"> Status     </span>|<span style=\"color: #808000; text-decoration-color: #808000; font-weight: bold\"> Url                               </span>|\n|-----+----------------+-----------------------------------------+------------+-----------------------------------|\n| 509 | 3.6            | Add a private version to dict           | Final      | https://peps.python.org/pep-0509/ |\n| 510 | 3.6            | Specialize functions with guards        | Rejected   | https://peps.python.org/pep-0510/ |\n| 511 | 3.6            | API for code transformers               | Rejected   | https://peps.python.org/pep-0511/ |\n| 513 |                | A Platform Tag for Portable Linux Built | Superseded | https://peps.python.org/pep-0513/ |\n|     |                | Distributions                           |            |                                   |\n| 514 |                | Python registration in the Windows      | Active     | https://peps.python.org/pep-0514/ |\n|     |                | registry                                |            |                                   |\n| 515 | 3.6            | Underscores in Numeric Literals         | Final      | https://peps.python.org/pep-0515/ |\n| 518 |                | Specifying Minimum Build System         | Final      | https://peps.python.org/pep-0518/ |\n|     |                | Requirements for Python Projects        |            |                                   |\n| 519 | 3.6            | Adding a file system path protocol      | Final      | https://peps.python.org/pep-0519/ |\n| 520 | 3.6            | Preserving Class Attribute Definition   | Final      | https://peps.python.org/pep-0520/ |\n|     |                | Order                                   |            |                                   |\n| 522 | 3.6            | Allow BlockingIOError in security       | Rejected   | https://peps.python.org/pep-0522/ |\n|     |                | sensitive APIs                          |            |                                   |\n| 523 | 3.6            | Adding a frame evaluation API to        | Final      | https://peps.python.org/pep-0523/ |\n|     |                | CPython                                 |            |                                   |\n| 524 | 3.6            | Make os.urandom() blocking on Linux     | Final      | https://peps.python.org/pep-0524/ |\n| 525 | 3.6            | Asynchronous Generators                 | Final      | https://peps.python.org/pep-0525/ |\n| 526 | 3.6            | Syntax for Variable Annotations         | Final      | https://peps.python.org/pep-0526/ |\n| 527 |                | Removing Un(der)used file               | Final      | https://peps.python.org/pep-0527/ |\n|     |                | types/extensions on PyPI                |            |                                   |\n| 528 | 3.6            | Change Windows console encoding to      | Final      | https://peps.python.org/pep-0528/ |\n|     |                | UTF-8                                   |            |                                   |\n| 529 | 3.6            | Change Windows filesystem encoding to   | Final      | https://peps.python.org/pep-0529/ |\n|     |                | UTF-8                                   |            |                                   |\n| 530 | 3.6            | Asynchronous Comprehensions             | Final      | https://peps.python.org/pep-0530/ |\n| 531 | 3.7            | Existence checking operators            | Withdrawn  | https://peps.python.org/pep-0531/ |\n| 532 | 3.8            | A circuit breaking protocol and binary  | Deferred   | https://peps.python.org/pep-0532/ |\n|     |                | operators                               |            |                                   |\n| 533 |                | Deterministic cleanup for iterators     | Deferred   | https://peps.python.org/pep-0533/ |\n| 534 |                | Improved Errors for Missing Standard    | Deferred   | https://peps.python.org/pep-0534/ |\n|     |                | Library Modules                         |            |                                   |\n| 535 | 3.8            | Rich comparison chaining                | Deferred   | https://peps.python.org/pep-0535/ |\n| 536 | 3.7            | Final Grammar for Literal String        | Deferred   | https://peps.python.org/pep-0536/ |\n|     |                | Interpolation                           |            |                                   |\n| 537 | 3.7            | Python 3.7 Release Schedule             | Active     | https://peps.python.org/pep-0537/ |\n| 538 | 3.7            | Coercing the legacy C locale to a UTF-8 | Final      | https://peps.python.org/pep-0538/ |\n|     |                | based locale                            |            |                                   |\n| 539 | 3.7            | A New C-API for Thread-Local Storage in | Final      | https://peps.python.org/pep-0539/ |\n|     |                | CPython                                 |            |                                   |\n| 540 | 3.7            | Add a new UTF-8 Mode                    | Final      | https://peps.python.org/pep-0540/ |\n| 543 | 3.7            | A Unified TLS API for Python            | Withdrawn  | https://peps.python.org/pep-0543/ |\n| 573 | 3.9            | Module State Access from C Extension    | Final      | https://peps.python.org/pep-0573/ |\n|     |                | Methods                                 |            |                                   |\n+-----------------------------------------------------------------------------------------------------------------+\n</pre>\n"
     },
     "metadata": {},
     "output_type": "display_data"
    }
   ],
   "source": [
    "# present PEPs created in 2016 - access index by indexed field name\n",
    "peps.by.year[2016](\"PEPs Created in 2016\").select(\"id python_version title status url\").present()"
   ],
   "metadata": {
    "collapsed": false,
    "ExecuteTime": {
     "end_time": "2024-03-25T20:00:05.134802Z",
     "start_time": "2024-03-25T20:00:05.107018Z"
    }
   },
   "id": "becbd684644b4d79",
   "execution_count": 11
  },
  {
   "cell_type": "code",
   "outputs": [
    {
     "name": "stdout",
     "output_type": "stream",
     "text": [
      "Number of PEPs since 2020: 130\n"
     ]
    }
   ],
   "source": [
    "# how many PEPs since 2020? use slice notation for \">=\"\n",
    "print(f\"Number of PEPs since 2020: {len(peps.by.year[2020:])}\")"
   ],
   "metadata": {
    "collapsed": false,
    "ExecuteTime": {
     "end_time": "2024-03-25T20:00:06.730488Z",
     "start_time": "2024-03-25T20:00:06.725481Z"
    }
   },
   "id": "1b232d7387cc00c0",
   "execution_count": 12
  },
  {
   "cell_type": "code",
   "outputs": [
    {
     "name": "stdout",
     "output_type": "stream",
     "text": [
      "Pivot: year\n",
      "2000         41\n",
      "2001         52\n",
      "2002         30\n",
      "2003         27\n",
      "2004         11\n",
      "2005         16\n",
      "2006         23\n",
      "2007         32\n",
      "2008         10\n",
      "2009         25\n",
      "2010          7\n",
      "2011         16\n",
      "2012         28\n",
      "2013         27\n",
      "2014         24\n",
      "2015         29\n",
      "2016         30\n",
      "2017         26\n",
      "2018         26\n",
      "2019         32\n",
      "2020         36\n",
      "2021         30\n",
      "2022         25\n",
      "2023         35\n",
      "2024          4\n"
     ]
    }
   ],
   "source": [
    "# pivot by year and dump counts, or present as nice table\n",
    "peps.pivot(\"year\").dump_counts()"
   ],
   "metadata": {
    "collapsed": false,
    "ExecuteTime": {
     "end_time": "2024-03-25T20:00:11.332297Z",
     "start_time": "2024-03-25T20:00:11.325798Z"
    }
   },
   "id": "567d96953dce2fb3",
   "execution_count": 13
  },
  {
   "cell_type": "code",
   "outputs": [
    {
     "name": "stdout",
     "output_type": "stream",
     "text": []
    },
    {
     "data": {
      "text/plain": "\u001B[3m                        PEPs by Year Submitted                         \u001B[0m\n+---------------------------------------------------------------------+\n|\u001B[1;33m \u001B[0m\u001B[1;33mYear\u001B[0m\u001B[1;33m \u001B[0m|\u001B[1;33m \u001B[0m\u001B[1;33mCount\u001B[0m\u001B[1;33m \u001B[0m|\u001B[1;33m \u001B[0m\u001B[1;33m                                                    \u001B[0m\u001B[1;33m \u001B[0m|\n|------+-------+------------------------------------------------------|\n| 2000 |    41 | ooooooooooooooooooooooooooooooooooooooooo            |\n| 2001 |    52 | oooooooooooooooooooooooooooooooooooooooooooooooooooo |\n| 2002 |    30 | oooooooooooooooooooooooooooooo                       |\n| 2003 |    27 | ooooooooooooooooooooooooooo                          |\n| 2004 |    11 | ooooooooooo                                          |\n| 2005 |    16 | oooooooooooooooo                                     |\n| 2006 |    23 | ooooooooooooooooooooooo                              |\n| 2007 |    32 | oooooooooooooooooooooooooooooooo                     |\n| 2008 |    10 | oooooooooo                                           |\n| 2009 |    25 | ooooooooooooooooooooooooo                            |\n| 2010 |     7 | ooooooo                                              |\n| 2011 |    16 | oooooooooooooooo                                     |\n| 2012 |    28 | oooooooooooooooooooooooooooo                         |\n| 2013 |    27 | ooooooooooooooooooooooooooo                          |\n| 2014 |    24 | oooooooooooooooooooooooo                             |\n| 2015 |    29 | ooooooooooooooooooooooooooooo                        |\n| 2016 |    30 | oooooooooooooooooooooooooooooo                       |\n| 2017 |    26 | oooooooooooooooooooooooooo                           |\n| 2018 |    26 | oooooooooooooooooooooooooo                           |\n| 2019 |    32 | oooooooooooooooooooooooooooooooo                     |\n| 2020 |    36 | oooooooooooooooooooooooooooooooooooo                 |\n| 2021 |    30 | oooooooooooooooooooooooooooooo                       |\n| 2022 |    25 | ooooooooooooooooooooooooo                            |\n| 2023 |    35 | ooooooooooooooooooooooooooooooooooo                  |\n| 2024 |     4 | oooo                                                 |\n+---------------------------------------------------------------------+\n\u001B[2;3mas of 21 March 2024                                                    \u001B[0m\n",
      "text/html": "<pre style=\"white-space:pre;overflow-x:auto;line-height:normal;font-family:Menlo,'DejaVu Sans Mono',consolas,'Courier New',monospace\"><span style=\"font-style: italic\">                        PEPs by Year Submitted                         </span>\n+---------------------------------------------------------------------+\n|<span style=\"color: #808000; text-decoration-color: #808000; font-weight: bold\"> Year </span>|<span style=\"color: #808000; text-decoration-color: #808000; font-weight: bold\"> Count </span>|<span style=\"color: #808000; text-decoration-color: #808000; font-weight: bold\">                                                      </span>|\n|------+-------+------------------------------------------------------|\n| 2000 |    41 | ooooooooooooooooooooooooooooooooooooooooo            |\n| 2001 |    52 | oooooooooooooooooooooooooooooooooooooooooooooooooooo |\n| 2002 |    30 | oooooooooooooooooooooooooooooo                       |\n| 2003 |    27 | ooooooooooooooooooooooooooo                          |\n| 2004 |    11 | ooooooooooo                                          |\n| 2005 |    16 | oooooooooooooooo                                     |\n| 2006 |    23 | ooooooooooooooooooooooo                              |\n| 2007 |    32 | oooooooooooooooooooooooooooooooo                     |\n| 2008 |    10 | oooooooooo                                           |\n| 2009 |    25 | ooooooooooooooooooooooooo                            |\n| 2010 |     7 | ooooooo                                              |\n| 2011 |    16 | oooooooooooooooo                                     |\n| 2012 |    28 | oooooooooooooooooooooooooooo                         |\n| 2013 |    27 | ooooooooooooooooooooooooooo                          |\n| 2014 |    24 | oooooooooooooooooooooooo                             |\n| 2015 |    29 | ooooooooooooooooooooooooooooo                        |\n| 2016 |    30 | oooooooooooooooooooooooooooooo                       |\n| 2017 |    26 | oooooooooooooooooooooooooo                           |\n| 2018 |    26 | oooooooooooooooooooooooooo                           |\n| 2019 |    32 | oooooooooooooooooooooooooooooooo                     |\n| 2020 |    36 | oooooooooooooooooooooooooooooooooooo                 |\n| 2021 |    30 | oooooooooooooooooooooooooooooo                       |\n| 2022 |    25 | ooooooooooooooooooooooooo                            |\n| 2023 |    35 | ooooooooooooooooooooooooooooooooooo                  |\n| 2024 |     4 | oooo                                                 |\n+---------------------------------------------------------------------+\n<span style=\"color: #7f7f7f; text-decoration-color: #7f7f7f; font-style: italic\">as of 21 March 2024                                                    </span>\n</pre>\n"
     },
     "metadata": {},
     "output_type": "display_data"
    }
   ],
   "source": [
    "peps_by_year = peps.pivot(\"year\").as_table()(\"PEPs by Year Submitted\")\n",
    "peps_by_year.add_field(\"\", lambda rec: \"o\" * rec.count)\n",
    "peps_by_year.present(caption=\"as of 21 March 2024\", caption_justify=\"left\")"
   ],
   "metadata": {
    "collapsed": false,
    "ExecuteTime": {
     "end_time": "2024-03-25T20:00:12.819648Z",
     "start_time": "2024-03-25T20:00:12.802032Z"
    }
   },
   "id": "6c3cb555cc72f891",
   "execution_count": 14
  },
  {
   "cell_type": "code",
   "outputs": [
    {
     "data": {
      "text/plain": "<littletable.Table at 0x23341412f50>"
     },
     "execution_count": 15,
     "metadata": {},
     "output_type": "execute_result"
    }
   ],
   "source": [
    "# create full text search on PEP abstracts\n",
    "peps.create_search_index(\"abstract\")"
   ],
   "metadata": {
    "collapsed": false,
    "ExecuteTime": {
     "end_time": "2024-03-25T20:00:23.179011Z",
     "start_time": "2024-03-25T20:00:22.810513Z"
    }
   },
   "id": "766a4ea7cb290a19",
   "execution_count": 15
  },
  {
   "cell_type": "code",
   "outputs": [
    {
     "name": "stdout",
     "output_type": "stream",
     "text": []
    },
    {
     "data": {
      "text/plain": "\u001B[3m                    'walrus' Search Results                    \u001B[0m\n+-------------------------------------------------------------+\n|\u001B[1;33m \u001B[0m\u001B[1;33m Id\u001B[0m\u001B[1;33m \u001B[0m|\u001B[1;33m \u001B[0m\u001B[1;33mTitle                 \u001B[0m\u001B[1;33m \u001B[0m|\u001B[1;33m \u001B[0m\u001B[1;33mYear\u001B[0m\u001B[1;33m \u001B[0m|\u001B[1;33m \u001B[0m\u001B[1;33mAuthors              \u001B[0m\u001B[1;33m \u001B[0m|\n|-----+------------------------+------+-----------------------|\n| 572 | Assignment Expressions | 2018 | Angelico, Peters, GvR |\n+-------------------------------------------------------------+\n",
      "text/html": "<pre style=\"white-space:pre;overflow-x:auto;line-height:normal;font-family:Menlo,'DejaVu Sans Mono',consolas,'Courier New',monospace\"><span style=\"font-style: italic\">                    'walrus' Search Results                    </span>\n+-------------------------------------------------------------+\n|<span style=\"color: #808000; text-decoration-color: #808000; font-weight: bold\">  Id </span>|<span style=\"color: #808000; text-decoration-color: #808000; font-weight: bold\"> Title                  </span>|<span style=\"color: #808000; text-decoration-color: #808000; font-weight: bold\"> Year </span>|<span style=\"color: #808000; text-decoration-color: #808000; font-weight: bold\"> Authors               </span>|\n|-----+------------------------+------+-----------------------|\n| 572 | Assignment Expressions | 2018 | Angelico, Peters, GvR |\n+-------------------------------------------------------------+\n</pre>\n"
     },
     "metadata": {},
     "output_type": "display_data"
    }
   ],
   "source": [
    "# search by search field name\n",
    "walrus_pep = peps.search.abstract(\"walrus\", as_table=True)(\"'walrus' Search Results\")\n",
    "walrus_pep.select(\"id title year authors\").present()"
   ],
   "metadata": {
    "collapsed": false,
    "ExecuteTime": {
     "end_time": "2024-03-25T20:03:28.776501Z",
     "start_time": "2024-03-25T20:03:28.768048Z"
    }
   },
   "id": "e97e81134562a539",
   "execution_count": 21
  },
  {
   "cell_type": "code",
   "outputs": [
    {
     "name": "stdout",
     "output_type": "stream",
     "text": [
      "[\n",
      "{\"id\": 572, \"title\": \"Assignment Expressions\", \"year\": 2018, \"authors\": \"Angelico, Peters, GvR\"}\n",
      "]\n"
     ]
    }
   ],
   "source": [
    "# display as JSON (json_export also accepts an output file)\n",
    "print(walrus_pep.select(\"id title year authors\").json_export())"
   ],
   "metadata": {
    "collapsed": false,
    "ExecuteTime": {
     "end_time": "2024-03-25T20:00:30.512957Z",
     "start_time": "2024-03-25T20:00:30.507764Z"
    }
   },
   "id": "4a3feb36d3fc25d3",
   "execution_count": 18
  },
  {
   "cell_type": "code",
   "outputs": [
    {
     "name": "stdout",
     "output_type": "stream",
     "text": []
    },
    {
     "data": {
      "text/plain": "\u001B[3m                                                     GvR PEPs                                                      \u001B[0m\n+-----------------------------------------------------------------------------------------------------------------+\n|\u001B[1;33m \u001B[0m\u001B[1;33m  Id\u001B[0m\u001B[1;33m \u001B[0m|\u001B[1;33m \u001B[0m\u001B[1;33mTitle                         \u001B[0m\u001B[1;33m \u001B[0m|\u001B[1;33m \u001B[0m\u001B[1;33mYear\u001B[0m\u001B[1;33m \u001B[0m|\u001B[1;33m \u001B[0m\u001B[1;33mUrl                            \u001B[0m\u001B[1;33m \u001B[0m|\u001B[1;33m \u001B[0m\u001B[1;33mAuthors                       \u001B[0m\u001B[1;33m \u001B[0m|\n|------+--------------------------------+------+---------------------------------+--------------------------------|\n|    8 | Style Guide for Python Code    | 2001 | https://peps.python.org/pep-00… | GvR, Warsaw, Coghlan           |\n|   20 | The Zen of Python              | 2004 | https://peps.python.org/pep-00… | Peters                         |\n|   42 | Feature Requests               | 2000 | https://peps.python.org/pep-00… | Hylton                         |\n|  102 | Doing Python Micro Releases    | 2002 | https://peps.python.org/pep-01… | Baxter, Warsaw, GvR            |\n|  230 | Warning Framework              | 2000 | https://peps.python.org/pep-02… | GvR                            |\n|  246 | Object Adaptation              | 2001 | https://peps.python.org/pep-02… | Martelli, Evans                |\n|  298 | The Locked Buffer Interface    | 2002 | https://peps.python.org/pep-02… | Heller                         |\n|  308 | Conditional Expressions        | 2003 | https://peps.python.org/pep-03… | GvR, Hettinger                 |\n|  346 | User Defined (\"``with``\")      | 2005 | https://peps.python.org/pep-03… | Coghlan                        |\n|      | Statements                     |      |                                 |                                |\n|  366 | Main module explicit relative  | 2007 | https://peps.python.org/pep-03… | Coghlan                        |\n|      | imports                        |      |                                 |                                |\n|  401 | BDFL Retirement                | 2009 | https://peps.python.org/pep-04… | Warsaw, Cannon                 |\n|  568 | Generator-sensitivity for      | 2018 | https://peps.python.org/pep-05… | Smith                          |\n|      | Context Variables              |      |                                 |                                |\n| 3099 | Things that will Not Change in | 2006 | https://peps.python.org/pep-30… | Brandl                         |\n|      | Python 3000                    |      |                                 |                                |\n| 3100 | Miscellaneous Python 3.0 Plans | 2004 | https://peps.python.org/pep-31… | Cannon                         |\n| 3111 | Simple input built-in in       | 2006 | https://peps.python.org/pep-31… | Roberge                        |\n|      | Python 3000                    |      |                                 |                                |\n| 3146 | Merging Unladen Swallow into   | 2010 | https://peps.python.org/pep-31… | Winter, Yasskin, Kleckner      |\n|      | CPython                        |      |                                 |                                |\n| 8000 | Python Language Governance     | 2018 | https://peps.python.org/pep-80… | Warsaw                         |\n|      | Proposal Overview              |      |                                 |                                |\n| 8001 | Python Governance Voting       | 2018 | https://peps.python.org/pep-80… | Cannon, Heimes, Stufft, Snow,  |\n|      | Process                        |      |                                 | Smith, Langa, Mariatta, Smith, |\n|      |                                |      |                                 | Salgado, Hettinger, Einat,     |\n|      |                                |      |                                 | Peters, Ware                   |\n| 8002 | Open Source Governance Survey  | 2018 | https://peps.python.org/pep-80… | Warsaw, Langa, Pitrou,         |\n|      |                                |      |                                 | Hellmann, Willing              |\n| 8010 | The Technical Leader           | 2018 | https://peps.python.org/pep-80… | Warsaw                         |\n|      | Governance Model               |      |                                 |                                |\n| 8014 | The Commons Governance Model   | 2018 | https://peps.python.org/pep-80… | Jansen                         |\n| 8015 | Organization of the Python     | 2018 | https://peps.python.org/pep-80… | Stinner                        |\n|      | community                      |      |                                 |                                |\n+-----------------------------------------------------------------------------------------------------------------+\n",
      "text/html": "<pre style=\"white-space:pre;overflow-x:auto;line-height:normal;font-family:Menlo,'DejaVu Sans Mono',consolas,'Courier New',monospace\"><span style=\"font-style: italic\">                                                     GvR PEPs                                                      </span>\n+-----------------------------------------------------------------------------------------------------------------+\n|<span style=\"color: #808000; text-decoration-color: #808000; font-weight: bold\">   Id </span>|<span style=\"color: #808000; text-decoration-color: #808000; font-weight: bold\"> Title                          </span>|<span style=\"color: #808000; text-decoration-color: #808000; font-weight: bold\"> Year </span>|<span style=\"color: #808000; text-decoration-color: #808000; font-weight: bold\"> Url                             </span>|<span style=\"color: #808000; text-decoration-color: #808000; font-weight: bold\"> Authors                        </span>|\n|------+--------------------------------+------+---------------------------------+--------------------------------|\n|    8 | Style Guide for Python Code    | 2001 | https://peps.python.org/pep-00… | GvR, Warsaw, Coghlan           |\n|   20 | The Zen of Python              | 2004 | https://peps.python.org/pep-00… | Peters                         |\n|   42 | Feature Requests               | 2000 | https://peps.python.org/pep-00… | Hylton                         |\n|  102 | Doing Python Micro Releases    | 2002 | https://peps.python.org/pep-01… | Baxter, Warsaw, GvR            |\n|  230 | Warning Framework              | 2000 | https://peps.python.org/pep-02… | GvR                            |\n|  246 | Object Adaptation              | 2001 | https://peps.python.org/pep-02… | Martelli, Evans                |\n|  298 | The Locked Buffer Interface    | 2002 | https://peps.python.org/pep-02… | Heller                         |\n|  308 | Conditional Expressions        | 2003 | https://peps.python.org/pep-03… | GvR, Hettinger                 |\n|  346 | User Defined (\"``with``\")      | 2005 | https://peps.python.org/pep-03… | Coghlan                        |\n|      | Statements                     |      |                                 |                                |\n|  366 | Main module explicit relative  | 2007 | https://peps.python.org/pep-03… | Coghlan                        |\n|      | imports                        |      |                                 |                                |\n|  401 | BDFL Retirement                | 2009 | https://peps.python.org/pep-04… | Warsaw, Cannon                 |\n|  568 | Generator-sensitivity for      | 2018 | https://peps.python.org/pep-05… | Smith                          |\n|      | Context Variables              |      |                                 |                                |\n| 3099 | Things that will Not Change in | 2006 | https://peps.python.org/pep-30… | Brandl                         |\n|      | Python 3000                    |      |                                 |                                |\n| 3100 | Miscellaneous Python 3.0 Plans | 2004 | https://peps.python.org/pep-31… | Cannon                         |\n| 3111 | Simple input built-in in       | 2006 | https://peps.python.org/pep-31… | Roberge                        |\n|      | Python 3000                    |      |                                 |                                |\n| 3146 | Merging Unladen Swallow into   | 2010 | https://peps.python.org/pep-31… | Winter, Yasskin, Kleckner      |\n|      | CPython                        |      |                                 |                                |\n| 8000 | Python Language Governance     | 2018 | https://peps.python.org/pep-80… | Warsaw                         |\n|      | Proposal Overview              |      |                                 |                                |\n| 8001 | Python Governance Voting       | 2018 | https://peps.python.org/pep-80… | Cannon, Heimes, Stufft, Snow,  |\n|      | Process                        |      |                                 | Smith, Langa, Mariatta, Smith, |\n|      |                                |      |                                 | Salgado, Hettinger, Einat,     |\n|      |                                |      |                                 | Peters, Ware                   |\n| 8002 | Open Source Governance Survey  | 2018 | https://peps.python.org/pep-80… | Warsaw, Langa, Pitrou,         |\n|      |                                |      |                                 | Hellmann, Willing              |\n| 8010 | The Technical Leader           | 2018 | https://peps.python.org/pep-80… | Warsaw                         |\n|      | Governance Model               |      |                                 |                                |\n| 8014 | The Commons Governance Model   | 2018 | https://peps.python.org/pep-80… | Jansen                         |\n| 8015 | Organization of the Python     | 2018 | https://peps.python.org/pep-80… | Stinner                        |\n|      | community                      |      |                                 |                                |\n+-----------------------------------------------------------------------------------------------------------------+\n</pre>\n"
     },
     "metadata": {},
     "output_type": "display_data"
    }
   ],
   "source": [
    "# search for PEPs referring to GvR or Guido or BDFL\n",
    "bdfl_peps = peps.search.abstract(\"gvr guido bdfl\", as_table=True)(\"GvR PEPs\")\n",
    "bdfl_peps.orderby(\"id\")\n",
    "bdfl_peps.select(\"id title year url authors\").present()"
   ],
   "metadata": {
    "collapsed": false,
    "ExecuteTime": {
     "end_time": "2024-03-25T20:00:46.251009Z",
     "start_time": "2024-03-25T20:00:46.228053Z"
    }
   },
   "id": "2e708261041d0d27",
   "execution_count": 19
  },
  {
   "cell_type": "code",
   "outputs": [
    {
     "name": "stdout",
     "output_type": "stream",
     "text": [
      "[\n",
      "{\"id\": 8, \"title\": \"Style Guide for Python Code\", \"created\": \"2001-07-05\"},\n",
      "{\"id\": 20, \"title\": \"The Zen of Python\", \"created\": \"2004-08-19\"},\n",
      "{\"id\": 42, \"title\": \"Feature Requests\", \"created\": \"2000-09-12\"},\n",
      "{\"id\": 102, \"title\": \"Doing Python Micro Releases\", \"created\": \"2002-01-09\"},\n",
      "{\"id\": 230, \"title\": \"Warning Framework\", \"created\": \"2000-11-28\"},\n",
      "{\"id\": 246, \"title\": \"Object Adaptation\", \"created\": \"2001-03-21\"},\n",
      "{\"id\": 298, \"title\": \"The Locked Buffer Interface\", \"created\": \"2002-07-26\"},\n",
      "{\"id\": 308, \"title\": \"Conditional Expressions\", \"created\": \"2003-02-07\"},\n",
      "{\"id\": 346, \"title\": \"User Defined (\\\"``with``\\\") Statements\", \"created\": \"2005-05-06\"},\n",
      "{\"id\": 366, \"title\": \"Main module explicit relative imports\", \"created\": \"2007-05-01\"},\n",
      "{\"id\": 401, \"title\": \"BDFL Retirement\", \"created\": \"2009-04-01\"},\n",
      "{\"id\": 568, \"title\": \"Generator-sensitivity for Context Variables\", \"created\": \"2018-01-04\"},\n",
      "{\"id\": 3099, \"title\": \"Things that will Not Change in Python 3000\", \"created\": \"2006-04-04\"},\n",
      "{\"id\": 3100, \"title\": \"Miscellaneous Python 3.0 Plans\", \"created\": \"2004-08-20\"},\n",
      "{\"id\": 3111, \"title\": \"Simple input built-in in Python 3000\", \"created\": \"2006-09-13\"},\n",
      "{\"id\": 3146, \"title\": \"Merging Unladen Swallow into CPython\", \"created\": \"2010-01-01\"},\n",
      "{\"id\": 8000, \"title\": \"Python Language Governance Proposal Overview\", \"created\": \"2018-08-24\"},\n",
      "{\"id\": 8001, \"title\": \"Python Governance Voting Process\", \"created\": \"2018-08-24\"},\n",
      "{\"id\": 8002, \"title\": \"Open Source Governance Survey\", \"created\": \"2018-08-24\"},\n",
      "{\"id\": 8010, \"title\": \"The Technical Leader Governance Model\", \"created\": \"2018-08-24\"},\n",
      "{\"id\": 8014, \"title\": \"The Commons Governance Model\", \"created\": \"2018-09-16\"},\n",
      "{\"id\": 8015, \"title\": \"Organization of the Python community\", \"created\": \"2018-10-04\"}\n",
      "]\n"
     ]
    }
   ],
   "source": [
    "# define a custom JSON encoder for datetime.date field\n",
    "import json\n",
    "class JsonDateEncoder(json.JSONEncoder):\n",
    "    def default(self, o):\n",
    "        import datetime\n",
    "        if isinstance(o, datetime.date):\n",
    "            return str(o)\n",
    "        return super().default(o)\n",
    "\n",
    "print(bdfl_peps.select(\"id title created\").json_export(json_encoder=(JsonDateEncoder,)))"
   ],
   "metadata": {
    "collapsed": false,
    "ExecuteTime": {
     "end_time": "2024-03-25T20:11:08.377942Z",
     "start_time": "2024-03-25T20:11:08.370726Z"
    }
   },
   "id": "7b560fee8936897b",
   "execution_count": 26
  },
  {
   "cell_type": "code",
   "outputs": [
    {
     "name": "stdout",
     "output_type": "stream",
     "text": [
      "id,title,created\r\n",
      "8,Style Guide for Python Code,2001-07-05\r\n",
      "20,The Zen of Python,2004-08-19\r\n",
      "42,Feature Requests,2000-09-12\r\n",
      "102,Doing Python Micro Releases,2002-01-09\r\n",
      "230,Warning Framework,2000-11-28\r\n",
      "246,Object Adaptation,2001-03-21\r\n",
      "298,The Locked Buffer Interface,2002-07-26\r\n",
      "308,Conditional Expressions,2003-02-07\r\n",
      "346,\"User Defined (\"\"``with``\"\") Statements\",2005-05-06\r\n",
      "366,Main module explicit relative imports,2007-05-01\r\n",
      "401,BDFL Retirement,2009-04-01\r\n",
      "568,Generator-sensitivity for Context Variables,2018-01-04\r\n",
      "3099,Things that will Not Change in Python 3000,2006-04-04\r\n",
      "3100,Miscellaneous Python 3.0 Plans,2004-08-20\r\n",
      "3111,Simple input built-in in Python 3000,2006-09-13\r\n",
      "3146,Merging Unladen Swallow into CPython,2010-01-01\r\n",
      "8000,Python Language Governance Proposal Overview,2018-08-24\r\n",
      "8001,Python Governance Voting Process,2018-08-24\r\n",
      "8002,Open Source Governance Survey,2018-08-24\r\n",
      "8010,The Technical Leader Governance Model,2018-08-24\r\n",
      "8014,The Commons Governance Model,2018-09-16\r\n",
      "8015,Organization of the Python community,2018-10-04\r\n"
     ]
    }
   ],
   "source": [
    "# CSV import/export also supported\n",
    "print(bdfl_peps.select(\"id title created\").csv_export())"
   ],
   "metadata": {
    "collapsed": false,
    "ExecuteTime": {
     "end_time": "2024-03-25T20:11:56.561804Z",
     "start_time": "2024-03-25T20:11:56.557907Z"
    }
   },
   "id": "c4f4792cd54b030c",
   "execution_count": 29
  }
 ],
 "metadata": {
  "kernelspec": {
   "display_name": "Python 3",
   "language": "python",
   "name": "python3"
  },
  "language_info": {
   "codemirror_mode": {
    "name": "ipython",
    "version": 2
   },
   "file_extension": ".py",
   "mimetype": "text/x-python",
   "name": "python",
   "nbconvert_exporter": "python",
   "pygments_lexer": "ipython2",
   "version": "2.7.6"
  }
 },
 "nbformat": 4,
 "nbformat_minor": 5
}
